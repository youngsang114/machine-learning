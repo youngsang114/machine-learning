{
 "cells": [
  {
   "attachments": {},
   "cell_type": "markdown",
   "metadata": {},
   "source": [
    "# 데이터 전처리"
   ]
  },
  {
   "cell_type": "code",
   "execution_count": 182,
   "metadata": {},
   "outputs": [],
   "source": [
    "import pandas as pd\n",
    "import numpy as np\n",
    "from io import StringIO"
   ]
  },
  {
   "cell_type": "code",
   "execution_count": 183,
   "metadata": {},
   "outputs": [
    {
     "data": {
      "text/html": [
       "<div>\n",
       "<style scoped>\n",
       "    .dataframe tbody tr th:only-of-type {\n",
       "        vertical-align: middle;\n",
       "    }\n",
       "\n",
       "    .dataframe tbody tr th {\n",
       "        vertical-align: top;\n",
       "    }\n",
       "\n",
       "    .dataframe thead th {\n",
       "        text-align: right;\n",
       "    }\n",
       "</style>\n",
       "<table border=\"1\" class=\"dataframe\">\n",
       "  <thead>\n",
       "    <tr style=\"text-align: right;\">\n",
       "      <th></th>\n",
       "      <th>A</th>\n",
       "      <th>B</th>\n",
       "      <th>C</th>\n",
       "      <th>D</th>\n",
       "    </tr>\n",
       "  </thead>\n",
       "  <tbody>\n",
       "    <tr>\n",
       "      <th>0</th>\n",
       "      <td>1.0</td>\n",
       "      <td>2.0</td>\n",
       "      <td>3.0</td>\n",
       "      <td>4.0</td>\n",
       "    </tr>\n",
       "    <tr>\n",
       "      <th>1</th>\n",
       "      <td>5.0</td>\n",
       "      <td>6.0</td>\n",
       "      <td>NaN</td>\n",
       "      <td>8.0</td>\n",
       "    </tr>\n",
       "    <tr>\n",
       "      <th>2</th>\n",
       "      <td>10.0</td>\n",
       "      <td>11.0</td>\n",
       "      <td>12.0</td>\n",
       "      <td>NaN</td>\n",
       "    </tr>\n",
       "  </tbody>\n",
       "</table>\n",
       "</div>"
      ],
      "text/plain": [
       "      A     B     C    D\n",
       "0   1.0   2.0   3.0  4.0\n",
       "1   5.0   6.0   NaN  8.0\n",
       "2  10.0  11.0  12.0  NaN"
      ]
     },
     "execution_count": 183,
     "metadata": {},
     "output_type": "execute_result"
    }
   ],
   "source": [
    "csv_data=\\\n",
    "    '''A,B,C,D\n",
    "    1.0,2.0,3.0,4.0\n",
    "    5.0,6.0,,8.0\n",
    "    10.0,11.0,12.0'''\n",
    "df=pd.read_csv(StringIO(csv_data))\n",
    "df"
   ]
  },
  {
   "cell_type": "code",
   "execution_count": 184,
   "metadata": {},
   "outputs": [
    {
     "data": {
      "text/plain": [
       "A    0\n",
       "B    0\n",
       "C    1\n",
       "D    1\n",
       "dtype: int64"
      ]
     },
     "execution_count": 184,
     "metadata": {},
     "output_type": "execute_result"
    }
   ],
   "source": [
    "df.isna().sum()\n",
    "df.isnull().sum()"
   ]
  },
  {
   "cell_type": "code",
   "execution_count": 185,
   "metadata": {},
   "outputs": [
    {
     "data": {
      "text/plain": [
       "array([[ 1.,  2.,  3.,  4.],\n",
       "       [ 5.,  6., nan,  8.],\n",
       "       [10., 11., 12., nan]])"
      ]
     },
     "execution_count": 185,
     "metadata": {},
     "output_type": "execute_result"
    }
   ],
   "source": [
    "# 사이킷런의 추정기 주입전 dataframe에 values의 속성을 이용하면 넘파이의 배열을 얻을 수 있다\n",
    "df.values"
   ]
  },
  {
   "cell_type": "code",
   "execution_count": 186,
   "metadata": {},
   "outputs": [
    {
     "data": {
      "text/html": [
       "<div>\n",
       "<style scoped>\n",
       "    .dataframe tbody tr th:only-of-type {\n",
       "        vertical-align: middle;\n",
       "    }\n",
       "\n",
       "    .dataframe tbody tr th {\n",
       "        vertical-align: top;\n",
       "    }\n",
       "\n",
       "    .dataframe thead th {\n",
       "        text-align: right;\n",
       "    }\n",
       "</style>\n",
       "<table border=\"1\" class=\"dataframe\">\n",
       "  <thead>\n",
       "    <tr style=\"text-align: right;\">\n",
       "      <th></th>\n",
       "      <th>A</th>\n",
       "      <th>B</th>\n",
       "    </tr>\n",
       "  </thead>\n",
       "  <tbody>\n",
       "    <tr>\n",
       "      <th>0</th>\n",
       "      <td>1.0</td>\n",
       "      <td>2.0</td>\n",
       "    </tr>\n",
       "    <tr>\n",
       "      <th>1</th>\n",
       "      <td>5.0</td>\n",
       "      <td>6.0</td>\n",
       "    </tr>\n",
       "    <tr>\n",
       "      <th>2</th>\n",
       "      <td>10.0</td>\n",
       "      <td>11.0</td>\n",
       "    </tr>\n",
       "  </tbody>\n",
       "</table>\n",
       "</div>"
      ],
      "text/plain": [
       "      A     B\n",
       "0   1.0   2.0\n",
       "1   5.0   6.0\n",
       "2  10.0  11.0"
      ]
     },
     "execution_count": 186,
     "metadata": {},
     "output_type": "execute_result"
    }
   ],
   "source": [
    "# 결측치 삭제(매개변수 axis= 1,0)\n",
    "# 1이면 열 결측치가 있는 열 삭제, 0이면 결측치가 있는 행 삭제\n",
    "df.dropna(axis=1)"
   ]
  },
  {
   "cell_type": "code",
   "execution_count": 187,
   "metadata": {},
   "outputs": [
    {
     "data": {
      "text/html": [
       "<div>\n",
       "<style scoped>\n",
       "    .dataframe tbody tr th:only-of-type {\n",
       "        vertical-align: middle;\n",
       "    }\n",
       "\n",
       "    .dataframe tbody tr th {\n",
       "        vertical-align: top;\n",
       "    }\n",
       "\n",
       "    .dataframe thead th {\n",
       "        text-align: right;\n",
       "    }\n",
       "</style>\n",
       "<table border=\"1\" class=\"dataframe\">\n",
       "  <thead>\n",
       "    <tr style=\"text-align: right;\">\n",
       "      <th></th>\n",
       "      <th>A</th>\n",
       "      <th>B</th>\n",
       "      <th>C</th>\n",
       "      <th>D</th>\n",
       "    </tr>\n",
       "  </thead>\n",
       "  <tbody>\n",
       "    <tr>\n",
       "      <th>0</th>\n",
       "      <td>1.0</td>\n",
       "      <td>2.0</td>\n",
       "      <td>3.0</td>\n",
       "      <td>4.0</td>\n",
       "    </tr>\n",
       "    <tr>\n",
       "      <th>1</th>\n",
       "      <td>5.0</td>\n",
       "      <td>6.0</td>\n",
       "      <td>NaN</td>\n",
       "      <td>8.0</td>\n",
       "    </tr>\n",
       "    <tr>\n",
       "      <th>2</th>\n",
       "      <td>10.0</td>\n",
       "      <td>11.0</td>\n",
       "      <td>12.0</td>\n",
       "      <td>NaN</td>\n",
       "    </tr>\n",
       "  </tbody>\n",
       "</table>\n",
       "</div>"
      ],
      "text/plain": [
       "      A     B     C    D\n",
       "0   1.0   2.0   3.0  4.0\n",
       "1   5.0   6.0   NaN  8.0\n",
       "2  10.0  11.0  12.0  NaN"
      ]
     },
     "execution_count": 187,
     "metadata": {},
     "output_type": "execute_result"
    }
   ],
   "source": [
    "# how ='all'이라는 매개변수 이용--> 모든 열이 NaN인 행을 삭제한다\n",
    "df.dropna(how='all')"
   ]
  },
  {
   "cell_type": "code",
   "execution_count": 188,
   "metadata": {},
   "outputs": [
    {
     "data": {
      "text/html": [
       "<div>\n",
       "<style scoped>\n",
       "    .dataframe tbody tr th:only-of-type {\n",
       "        vertical-align: middle;\n",
       "    }\n",
       "\n",
       "    .dataframe tbody tr th {\n",
       "        vertical-align: top;\n",
       "    }\n",
       "\n",
       "    .dataframe thead th {\n",
       "        text-align: right;\n",
       "    }\n",
       "</style>\n",
       "<table border=\"1\" class=\"dataframe\">\n",
       "  <thead>\n",
       "    <tr style=\"text-align: right;\">\n",
       "      <th></th>\n",
       "      <th>A</th>\n",
       "      <th>B</th>\n",
       "      <th>C</th>\n",
       "      <th>D</th>\n",
       "    </tr>\n",
       "  </thead>\n",
       "  <tbody>\n",
       "    <tr>\n",
       "      <th>0</th>\n",
       "      <td>1.0</td>\n",
       "      <td>2.0</td>\n",
       "      <td>3.0</td>\n",
       "      <td>4.0</td>\n",
       "    </tr>\n",
       "  </tbody>\n",
       "</table>\n",
       "</div>"
      ],
      "text/plain": [
       "     A    B    C    D\n",
       "0  1.0  2.0  3.0  4.0"
      ]
     },
     "execution_count": 188,
     "metadata": {},
     "output_type": "execute_result"
    }
   ],
   "source": [
    "# thresh = n  실수 값이 n보다 작은 행을 삭제한다\n",
    "df.dropna(thresh=4)"
   ]
  },
  {
   "cell_type": "code",
   "execution_count": 189,
   "metadata": {},
   "outputs": [
    {
     "data": {
      "text/html": [
       "<div>\n",
       "<style scoped>\n",
       "    .dataframe tbody tr th:only-of-type {\n",
       "        vertical-align: middle;\n",
       "    }\n",
       "\n",
       "    .dataframe tbody tr th {\n",
       "        vertical-align: top;\n",
       "    }\n",
       "\n",
       "    .dataframe thead th {\n",
       "        text-align: right;\n",
       "    }\n",
       "</style>\n",
       "<table border=\"1\" class=\"dataframe\">\n",
       "  <thead>\n",
       "    <tr style=\"text-align: right;\">\n",
       "      <th></th>\n",
       "      <th>A</th>\n",
       "      <th>B</th>\n",
       "      <th>C</th>\n",
       "      <th>D</th>\n",
       "    </tr>\n",
       "  </thead>\n",
       "  <tbody>\n",
       "    <tr>\n",
       "      <th>0</th>\n",
       "      <td>1.0</td>\n",
       "      <td>2.0</td>\n",
       "      <td>3.0</td>\n",
       "      <td>4.0</td>\n",
       "    </tr>\n",
       "    <tr>\n",
       "      <th>2</th>\n",
       "      <td>10.0</td>\n",
       "      <td>11.0</td>\n",
       "      <td>12.0</td>\n",
       "      <td>NaN</td>\n",
       "    </tr>\n",
       "  </tbody>\n",
       "</table>\n",
       "</div>"
      ],
      "text/plain": [
       "      A     B     C    D\n",
       "0   1.0   2.0   3.0  4.0\n",
       "2  10.0  11.0  12.0  NaN"
      ]
     },
     "execution_count": 189,
     "metadata": {},
     "output_type": "execute_result"
    }
   ],
   "source": [
    "# subset=['특정행']--> 특정행을 삭제한다\n",
    "df.dropna(subset=['C'])"
   ]
  },
  {
   "attachments": {},
   "cell_type": "markdown",
   "metadata": {},
   "source": [
    "#### from sklearn.impute import SimpleImputer\n",
    "    - miising_values 의 기본값 : np.nan\n",
    "    - strategy : 'mean' , 'most_frequent' , 'constant'\n",
    "    - axis=의 매개변수 삭제 ,  계산은 axis=0처럼 열의 평균임!"
   ]
  },
  {
   "cell_type": "code",
   "execution_count": 190,
   "metadata": {},
   "outputs": [
    {
     "data": {
      "text/plain": [
       "array([[ 1. ,  2. ,  3. ,  4. ],\n",
       "       [ 5. ,  6. ,  7.5,  8. ],\n",
       "       [10. , 11. , 12. ,  6. ]])"
      ]
     },
     "execution_count": 190,
     "metadata": {},
     "output_type": "execute_result"
    }
   ],
   "source": [
    "# 특성 열의 전체 평균으로 결측치(누락값) 대체하기\n",
    "\n",
    "from sklearn.impute import SimpleImputer\n",
    "simr= SimpleImputer(missing_values=np.nan, strategy='mean')\n",
    "simr=simr.fit(df.values)\n",
    "imputed_data =simr.transform(df.values)\n",
    "imputed_data"
   ]
  },
  {
   "attachments": {},
   "cell_type": "markdown",
   "metadata": {},
   "source": [
    "# 사이킷런 추정기 API\n",
    "    - fit 매서드를 사용하여 훈련 데이터에서 포델 피라미터를 학습\n",
    "    - transform 매서드를 사용하여 학습한 피라미터로 데이터를 변환한다\n",
    "    - 변환 하는 데이터 수는 모델 학습에 사용한 데이터의 특성 개수와 같아야 한다\n",
    "    - .fit_transform()을 사용하면 fit, transform 매서드를 합쳐 놓은 단축 매서드이다"
   ]
  },
  {
   "attachments": {},
   "cell_type": "markdown",
   "metadata": {},
   "source": [
    "# 범주형 데이터 다루기"
   ]
  },
  {
   "cell_type": "code",
   "execution_count": 191,
   "metadata": {},
   "outputs": [
    {
     "data": {
      "text/html": [
       "<div>\n",
       "<style scoped>\n",
       "    .dataframe tbody tr th:only-of-type {\n",
       "        vertical-align: middle;\n",
       "    }\n",
       "\n",
       "    .dataframe tbody tr th {\n",
       "        vertical-align: top;\n",
       "    }\n",
       "\n",
       "    .dataframe thead th {\n",
       "        text-align: right;\n",
       "    }\n",
       "</style>\n",
       "<table border=\"1\" class=\"dataframe\">\n",
       "  <thead>\n",
       "    <tr style=\"text-align: right;\">\n",
       "      <th></th>\n",
       "      <th>color</th>\n",
       "      <th>size</th>\n",
       "      <th>price</th>\n",
       "      <th>classlabel</th>\n",
       "    </tr>\n",
       "  </thead>\n",
       "  <tbody>\n",
       "    <tr>\n",
       "      <th>0</th>\n",
       "      <td>green</td>\n",
       "      <td>M</td>\n",
       "      <td>10.1</td>\n",
       "      <td>class1</td>\n",
       "    </tr>\n",
       "    <tr>\n",
       "      <th>1</th>\n",
       "      <td>red</td>\n",
       "      <td>L</td>\n",
       "      <td>13.5</td>\n",
       "      <td>class2</td>\n",
       "    </tr>\n",
       "    <tr>\n",
       "      <th>2</th>\n",
       "      <td>blue</td>\n",
       "      <td>XL</td>\n",
       "      <td>15.3</td>\n",
       "      <td>class1</td>\n",
       "    </tr>\n",
       "  </tbody>\n",
       "</table>\n",
       "</div>"
      ],
      "text/plain": [
       "   color size  price classlabel\n",
       "0  green    M   10.1     class1\n",
       "1    red    L   13.5     class2\n",
       "2   blue   XL   15.3     class1"
      ]
     },
     "execution_count": 191,
     "metadata": {},
     "output_type": "execute_result"
    }
   ],
   "source": [
    "df=pd.DataFrame([\n",
    "    ['green','M',10.1,'class1'],\n",
    "    ['red','L',13.5,'class2'],\n",
    "    ['blue','XL',15.3,'class1']\n",
    "])\n",
    "df.columns=['color','size','price','classlabel']\n",
    "df"
   ]
  },
  {
   "attachments": {},
   "cell_type": "markdown",
   "metadata": {},
   "source": [
    "### 순서 특성 매핑\n",
    "    - 학습 알고리즘이 순서 특성을 올바르게 인식하려면, 범주형의 문자열 값을 정수로 바꿔줘야한다\n",
    "    - size의 특성은 범주형 데이터\n",
    "    "
   ]
  },
  {
   "cell_type": "code",
   "execution_count": 192,
   "metadata": {},
   "outputs": [],
   "source": [
    "size_mapping = {\n",
    "    'XL': 3,\n",
    "    'L' : 2,\n",
    "    'M' : 1\n",
    "}\n",
    "\n"
   ]
  },
  {
   "cell_type": "code",
   "execution_count": 193,
   "metadata": {},
   "outputs": [
    {
     "data": {
      "text/html": [
       "<div>\n",
       "<style scoped>\n",
       "    .dataframe tbody tr th:only-of-type {\n",
       "        vertical-align: middle;\n",
       "    }\n",
       "\n",
       "    .dataframe tbody tr th {\n",
       "        vertical-align: top;\n",
       "    }\n",
       "\n",
       "    .dataframe thead th {\n",
       "        text-align: right;\n",
       "    }\n",
       "</style>\n",
       "<table border=\"1\" class=\"dataframe\">\n",
       "  <thead>\n",
       "    <tr style=\"text-align: right;\">\n",
       "      <th></th>\n",
       "      <th>color</th>\n",
       "      <th>size</th>\n",
       "      <th>price</th>\n",
       "      <th>classlabel</th>\n",
       "    </tr>\n",
       "  </thead>\n",
       "  <tbody>\n",
       "    <tr>\n",
       "      <th>0</th>\n",
       "      <td>green</td>\n",
       "      <td>1</td>\n",
       "      <td>10.1</td>\n",
       "      <td>class1</td>\n",
       "    </tr>\n",
       "    <tr>\n",
       "      <th>1</th>\n",
       "      <td>red</td>\n",
       "      <td>2</td>\n",
       "      <td>13.5</td>\n",
       "      <td>class2</td>\n",
       "    </tr>\n",
       "    <tr>\n",
       "      <th>2</th>\n",
       "      <td>blue</td>\n",
       "      <td>3</td>\n",
       "      <td>15.3</td>\n",
       "      <td>class1</td>\n",
       "    </tr>\n",
       "  </tbody>\n",
       "</table>\n",
       "</div>"
      ],
      "text/plain": [
       "   color  size  price classlabel\n",
       "0  green     1   10.1     class1\n",
       "1    red     2   13.5     class2\n",
       "2   blue     3   15.3     class1"
      ]
     },
     "execution_count": 193,
     "metadata": {},
     "output_type": "execute_result"
    }
   ],
   "source": [
    "df['size']=df['size'].map(size_mapping)\n",
    "df"
   ]
  },
  {
   "cell_type": "code",
   "execution_count": 194,
   "metadata": {},
   "outputs": [],
   "source": [
    "## 다시 거꾸로 매핑하려면 딕셔너리 inv_size_mapping(v: k for k,v in size_mapping.items()) 를 사용한다\n"
   ]
  },
  {
   "attachments": {},
   "cell_type": "markdown",
   "metadata": {},
   "source": [
    "### 클래스 레이블 인코딩\n",
    "    - classlabel은 순서가 없는 명목형 data\n",
    "    - 사이킷런의 분류 추정기 대부분 클래스 레이블을 정수로 반환해 주지만\n",
    "    - 사소한 실수를 방지하기 위해 클래스 레이블을 정수 배열로 전달하는 것은 좋은 습관\n",
    "    - enumerate 반복가능한 객체(문자열, 리스트, 넘파이, 어레이)를 입력받아 인덱스와 값의 튜플을 차례대로 반환하는 파이썬의 내장함수"
   ]
  },
  {
   "cell_type": "code",
   "execution_count": 195,
   "metadata": {},
   "outputs": [
    {
     "data": {
      "text/plain": [
       "{'class1': 0, 'class2': 1}"
      ]
     },
     "execution_count": 195,
     "metadata": {},
     "output_type": "execute_result"
    }
   ],
   "source": [
    "class_mapping ={label:idx for idx,label in enumerate(np.unique(df['classlabel']))}\n",
    "class_mapping"
   ]
  },
  {
   "cell_type": "code",
   "execution_count": 196,
   "metadata": {},
   "outputs": [
    {
     "data": {
      "text/html": [
       "<div>\n",
       "<style scoped>\n",
       "    .dataframe tbody tr th:only-of-type {\n",
       "        vertical-align: middle;\n",
       "    }\n",
       "\n",
       "    .dataframe tbody tr th {\n",
       "        vertical-align: top;\n",
       "    }\n",
       "\n",
       "    .dataframe thead th {\n",
       "        text-align: right;\n",
       "    }\n",
       "</style>\n",
       "<table border=\"1\" class=\"dataframe\">\n",
       "  <thead>\n",
       "    <tr style=\"text-align: right;\">\n",
       "      <th></th>\n",
       "      <th>color</th>\n",
       "      <th>size</th>\n",
       "      <th>price</th>\n",
       "      <th>classlabel</th>\n",
       "    </tr>\n",
       "  </thead>\n",
       "  <tbody>\n",
       "    <tr>\n",
       "      <th>0</th>\n",
       "      <td>green</td>\n",
       "      <td>1</td>\n",
       "      <td>10.1</td>\n",
       "      <td>0</td>\n",
       "    </tr>\n",
       "    <tr>\n",
       "      <th>1</th>\n",
       "      <td>red</td>\n",
       "      <td>2</td>\n",
       "      <td>13.5</td>\n",
       "      <td>1</td>\n",
       "    </tr>\n",
       "    <tr>\n",
       "      <th>2</th>\n",
       "      <td>blue</td>\n",
       "      <td>3</td>\n",
       "      <td>15.3</td>\n",
       "      <td>0</td>\n",
       "    </tr>\n",
       "  </tbody>\n",
       "</table>\n",
       "</div>"
      ],
      "text/plain": [
       "   color  size  price  classlabel\n",
       "0  green     1   10.1           0\n",
       "1    red     2   13.5           1\n",
       "2   blue     3   15.3           0"
      ]
     },
     "execution_count": 196,
     "metadata": {},
     "output_type": "execute_result"
    }
   ],
   "source": [
    "df['classlabel']=df['classlabel'].map(class_mapping)\n",
    "df"
   ]
  },
  {
   "attachments": {},
   "cell_type": "markdown",
   "metadata": {},
   "source": [
    "### 사이킷럿에 구현된 labelEncoder 클래스\n",
    "    - labelEncoder은 문자열 레이블을 정수로 변환해줌\n",
    "    - inverse.transform()을 바꾸기 전으로 돌아갈 수 있다\n",
    "    - from sklearn.preprocessing import LabelEncoder\n",
    "    - 타깃 레이블을 인코딩하기 위한 클래스이므로, 입력 데이터로 1차원 배열을 기대한다\n"
   ]
  },
  {
   "cell_type": "code",
   "execution_count": 197,
   "metadata": {},
   "outputs": [
    {
     "data": {
      "text/plain": [
       "array(['class1', 'class2', 'class1'], dtype=object)"
      ]
     },
     "execution_count": 197,
     "metadata": {},
     "output_type": "execute_result"
    }
   ],
   "source": [
    "from sklearn.preprocessing import LabelEncoder\n",
    "\n",
    "df=pd.DataFrame([\n",
    "    ['green','M',10.1,'class1'],\n",
    "    ['red','L',13.5,'class2'],\n",
    "    ['blue','XL',15.3,'class1']\n",
    "])\n",
    "df.columns=['color','size','price','classlabel']\n",
    "class_le =LabelEncoder()\n",
    "y= class_le.fit_transform(df['classlabel'].values)\n",
    "class_le.inverse_transform(y)"
   ]
  },
  {
   "cell_type": "code",
   "execution_count": 198,
   "metadata": {},
   "outputs": [
    {
     "data": {
      "text/plain": [
       "array([[1, 'M', 10.1],\n",
       "       [2, 'L', 13.5],\n",
       "       [0, 'XL', 15.3]], dtype=object)"
      ]
     },
     "execution_count": 198,
     "metadata": {},
     "output_type": "execute_result"
    }
   ],
   "source": [
    "from sklearn.preprocessing import LabelEncoder\n",
    "X= df[['color','size','price']].values\n",
    "color_le = LabelEncoder()\n",
    "X[:,0]=color_le.fit_transform(X[:,0])\n",
    "X"
   ]
  },
  {
   "attachments": {},
   "cell_type": "markdown",
   "metadata": {},
   "source": [
    "#### 이렇게 변환한다면, 학습 알고리즘이 green이 blue,red보다 크다고 크다고 가정할 것이다\n",
    "    - 윈-핫 인코딩\n",
    "    - 순서 없는 특성에 들어 있는 고유한 값마다 새로운 dummy 특성을 만든다\n",
    "    - 희소 행렬을 반환\n",
    "        - toarray로 일반 넘파이 배열로 변환\n",
    "        - 대량의 데이터 셋\n",
    "        - 배열에 0 이 많이 포함되어 있을때 유용하다"
   ]
  },
  {
   "attachments": {},
   "cell_type": "markdown",
   "metadata": {},
   "source": [
    "## 윈- 핫 인코딩\n",
    "    - ColumnTransformer()\n",
    "    - 데이터셋에 있는 고유한 정수 또는 문자열을 카테고리로 지정\n",
    "    - categories의 매개변수를 auto로 지정하면 경고 메시지를 피할 수 있다\n"
   ]
  },
  {
   "cell_type": "code",
   "execution_count": 199,
   "metadata": {},
   "outputs": [
    {
     "data": {
      "text/plain": [
       "array([[0.0, 1.0, 0.0, 'M', 10.1],\n",
       "       [0.0, 0.0, 1.0, 'L', 13.5],\n",
       "       [1.0, 0.0, 0.0, 'XL', 15.3]], dtype=object)"
      ]
     },
     "execution_count": 199,
     "metadata": {},
     "output_type": "execute_result"
    }
   ],
   "source": [
    "from sklearn.preprocessing import OneHotEncoder\n",
    "from sklearn.compose import ColumnTransformer\n",
    "oh_enc= OneHotEncoder(categories='auto')\n",
    "\n",
    "col_trans= ColumnTransformer([('oh_enc', oh_enc,[0])], remainder ='passthrough')\n",
    "col_trans.fit_transform(X)"
   ]
  },
  {
   "attachments": {},
   "cell_type": "markdown",
   "metadata": {},
   "source": [
    "#### 더 쉽게 pandas의 get_dummies 메서드를 사용하기\n",
    "    - pd.get_dummies(df[[행1,행2,...]],colums=['더미화할 행])"
   ]
  },
  {
   "cell_type": "code",
   "execution_count": 200,
   "metadata": {},
   "outputs": [
    {
     "data": {
      "text/html": [
       "<div>\n",
       "<style scoped>\n",
       "    .dataframe tbody tr th:only-of-type {\n",
       "        vertical-align: middle;\n",
       "    }\n",
       "\n",
       "    .dataframe tbody tr th {\n",
       "        vertical-align: top;\n",
       "    }\n",
       "\n",
       "    .dataframe thead th {\n",
       "        text-align: right;\n",
       "    }\n",
       "</style>\n",
       "<table border=\"1\" class=\"dataframe\">\n",
       "  <thead>\n",
       "    <tr style=\"text-align: right;\">\n",
       "      <th></th>\n",
       "      <th>price</th>\n",
       "      <th>size</th>\n",
       "      <th>color_blue</th>\n",
       "      <th>color_green</th>\n",
       "      <th>color_red</th>\n",
       "    </tr>\n",
       "  </thead>\n",
       "  <tbody>\n",
       "    <tr>\n",
       "      <th>0</th>\n",
       "      <td>10.1</td>\n",
       "      <td>M</td>\n",
       "      <td>0</td>\n",
       "      <td>1</td>\n",
       "      <td>0</td>\n",
       "    </tr>\n",
       "    <tr>\n",
       "      <th>1</th>\n",
       "      <td>13.5</td>\n",
       "      <td>L</td>\n",
       "      <td>0</td>\n",
       "      <td>0</td>\n",
       "      <td>1</td>\n",
       "    </tr>\n",
       "    <tr>\n",
       "      <th>2</th>\n",
       "      <td>15.3</td>\n",
       "      <td>XL</td>\n",
       "      <td>1</td>\n",
       "      <td>0</td>\n",
       "      <td>0</td>\n",
       "    </tr>\n",
       "  </tbody>\n",
       "</table>\n",
       "</div>"
      ],
      "text/plain": [
       "   price size  color_blue  color_green  color_red\n",
       "0   10.1    M           0            1          0\n",
       "1   13.5    L           0            0          1\n",
       "2   15.3   XL           1            0          0"
      ]
     },
     "execution_count": 200,
     "metadata": {},
     "output_type": "execute_result"
    }
   ],
   "source": [
    "pd.get_dummies(df[['price','size','color']],columns=['color'])"
   ]
  },
  {
   "attachments": {},
   "cell_type": "markdown",
   "metadata": {},
   "source": [
    "##### 다중공산성 문제\n",
    "    - 어떤 알코리즘에서(역행렬을 구해야 하는 경우), 특성 간의 상관관계가 높으면 역행렬을 계산하기 어려워짐\n",
    "    - 변수 간의 상관관계를 감소하려면 윈-핫 인코딩에서 특성 열 하나를 삭제한다\n",
    "    - drop_first = True라는 매개변수 이용\n",
    "    ------------------------------------------------------------------------------------------------\n",
    "    - OneHotEncoder는 열을 삭제하는 매개변수가 없다 --> 슬라이싱을 이용 "
   ]
  },
  {
   "cell_type": "code",
   "execution_count": 201,
   "metadata": {},
   "outputs": [
    {
     "data": {
      "text/html": [
       "<div>\n",
       "<style scoped>\n",
       "    .dataframe tbody tr th:only-of-type {\n",
       "        vertical-align: middle;\n",
       "    }\n",
       "\n",
       "    .dataframe tbody tr th {\n",
       "        vertical-align: top;\n",
       "    }\n",
       "\n",
       "    .dataframe thead th {\n",
       "        text-align: right;\n",
       "    }\n",
       "</style>\n",
       "<table border=\"1\" class=\"dataframe\">\n",
       "  <thead>\n",
       "    <tr style=\"text-align: right;\">\n",
       "      <th></th>\n",
       "      <th>price</th>\n",
       "      <th>size</th>\n",
       "      <th>color_green</th>\n",
       "      <th>color_red</th>\n",
       "    </tr>\n",
       "  </thead>\n",
       "  <tbody>\n",
       "    <tr>\n",
       "      <th>0</th>\n",
       "      <td>10.1</td>\n",
       "      <td>M</td>\n",
       "      <td>1</td>\n",
       "      <td>0</td>\n",
       "    </tr>\n",
       "    <tr>\n",
       "      <th>1</th>\n",
       "      <td>13.5</td>\n",
       "      <td>L</td>\n",
       "      <td>0</td>\n",
       "      <td>1</td>\n",
       "    </tr>\n",
       "    <tr>\n",
       "      <th>2</th>\n",
       "      <td>15.3</td>\n",
       "      <td>XL</td>\n",
       "      <td>0</td>\n",
       "      <td>0</td>\n",
       "    </tr>\n",
       "  </tbody>\n",
       "</table>\n",
       "</div>"
      ],
      "text/plain": [
       "   price size  color_green  color_red\n",
       "0   10.1    M            1          0\n",
       "1   13.5    L            0          1\n",
       "2   15.3   XL            0          0"
      ]
     },
     "execution_count": 201,
     "metadata": {},
     "output_type": "execute_result"
    }
   ],
   "source": [
    "pd.get_dummies(df[['price','size','color']],columns=['color'],drop_first=True)"
   ]
  },
  {
   "attachments": {},
   "cell_type": "markdown",
   "metadata": {},
   "source": [
    "## 데이터 셋을 훈련 세트와 테스트 세트로 나누기"
   ]
  },
  {
   "cell_type": "code",
   "execution_count": 202,
   "metadata": {},
   "outputs": [
    {
     "name": "stdout",
     "output_type": "stream",
     "text": [
      "클래스 레이블 [1 2 3]\n"
     ]
    },
    {
     "data": {
      "text/html": [
       "<div>\n",
       "<style scoped>\n",
       "    .dataframe tbody tr th:only-of-type {\n",
       "        vertical-align: middle;\n",
       "    }\n",
       "\n",
       "    .dataframe tbody tr th {\n",
       "        vertical-align: top;\n",
       "    }\n",
       "\n",
       "    .dataframe thead th {\n",
       "        text-align: right;\n",
       "    }\n",
       "</style>\n",
       "<table border=\"1\" class=\"dataframe\">\n",
       "  <thead>\n",
       "    <tr style=\"text-align: right;\">\n",
       "      <th></th>\n",
       "      <th>Class label</th>\n",
       "      <th>Alcohol</th>\n",
       "      <th>Malic acid</th>\n",
       "      <th>Ash</th>\n",
       "      <th>Alcalinity of ash</th>\n",
       "      <th>Magnesium</th>\n",
       "      <th>Total phenols</th>\n",
       "      <th>Flavanoids</th>\n",
       "      <th>Nonflacanoid phenols</th>\n",
       "      <th>Proanthocyanins</th>\n",
       "      <th>Color intensity</th>\n",
       "      <th>Hue</th>\n",
       "      <th>OD280/oD315 of diluted wines</th>\n",
       "      <th>Proline</th>\n",
       "    </tr>\n",
       "  </thead>\n",
       "  <tbody>\n",
       "    <tr>\n",
       "      <th>0</th>\n",
       "      <td>1</td>\n",
       "      <td>14.23</td>\n",
       "      <td>1.71</td>\n",
       "      <td>2.43</td>\n",
       "      <td>15.6</td>\n",
       "      <td>127</td>\n",
       "      <td>2.80</td>\n",
       "      <td>3.06</td>\n",
       "      <td>0.28</td>\n",
       "      <td>2.29</td>\n",
       "      <td>5.64</td>\n",
       "      <td>1.04</td>\n",
       "      <td>3.92</td>\n",
       "      <td>1065</td>\n",
       "    </tr>\n",
       "    <tr>\n",
       "      <th>1</th>\n",
       "      <td>1</td>\n",
       "      <td>13.20</td>\n",
       "      <td>1.78</td>\n",
       "      <td>2.14</td>\n",
       "      <td>11.2</td>\n",
       "      <td>100</td>\n",
       "      <td>2.65</td>\n",
       "      <td>2.76</td>\n",
       "      <td>0.26</td>\n",
       "      <td>1.28</td>\n",
       "      <td>4.38</td>\n",
       "      <td>1.05</td>\n",
       "      <td>3.40</td>\n",
       "      <td>1050</td>\n",
       "    </tr>\n",
       "    <tr>\n",
       "      <th>2</th>\n",
       "      <td>1</td>\n",
       "      <td>13.16</td>\n",
       "      <td>2.36</td>\n",
       "      <td>2.67</td>\n",
       "      <td>18.6</td>\n",
       "      <td>101</td>\n",
       "      <td>2.80</td>\n",
       "      <td>3.24</td>\n",
       "      <td>0.30</td>\n",
       "      <td>2.81</td>\n",
       "      <td>5.68</td>\n",
       "      <td>1.03</td>\n",
       "      <td>3.17</td>\n",
       "      <td>1185</td>\n",
       "    </tr>\n",
       "    <tr>\n",
       "      <th>3</th>\n",
       "      <td>1</td>\n",
       "      <td>14.37</td>\n",
       "      <td>1.95</td>\n",
       "      <td>2.50</td>\n",
       "      <td>16.8</td>\n",
       "      <td>113</td>\n",
       "      <td>3.85</td>\n",
       "      <td>3.49</td>\n",
       "      <td>0.24</td>\n",
       "      <td>2.18</td>\n",
       "      <td>7.80</td>\n",
       "      <td>0.86</td>\n",
       "      <td>3.45</td>\n",
       "      <td>1480</td>\n",
       "    </tr>\n",
       "    <tr>\n",
       "      <th>4</th>\n",
       "      <td>1</td>\n",
       "      <td>13.24</td>\n",
       "      <td>2.59</td>\n",
       "      <td>2.87</td>\n",
       "      <td>21.0</td>\n",
       "      <td>118</td>\n",
       "      <td>2.80</td>\n",
       "      <td>2.69</td>\n",
       "      <td>0.39</td>\n",
       "      <td>1.82</td>\n",
       "      <td>4.32</td>\n",
       "      <td>1.04</td>\n",
       "      <td>2.93</td>\n",
       "      <td>735</td>\n",
       "    </tr>\n",
       "  </tbody>\n",
       "</table>\n",
       "</div>"
      ],
      "text/plain": [
       "   Class label  Alcohol  Malic acid   Ash  Alcalinity of ash  Magnesium  \\\n",
       "0            1    14.23        1.71  2.43               15.6        127   \n",
       "1            1    13.20        1.78  2.14               11.2        100   \n",
       "2            1    13.16        2.36  2.67               18.6        101   \n",
       "3            1    14.37        1.95  2.50               16.8        113   \n",
       "4            1    13.24        2.59  2.87               21.0        118   \n",
       "\n",
       "   Total phenols  Flavanoids  Nonflacanoid phenols  Proanthocyanins  \\\n",
       "0           2.80        3.06                  0.28             2.29   \n",
       "1           2.65        2.76                  0.26             1.28   \n",
       "2           2.80        3.24                  0.30             2.81   \n",
       "3           3.85        3.49                  0.24             2.18   \n",
       "4           2.80        2.69                  0.39             1.82   \n",
       "\n",
       "   Color intensity   Hue  OD280/oD315 of diluted wines  Proline  \n",
       "0             5.64  1.04                          3.92     1065  \n",
       "1             4.38  1.05                          3.40     1050  \n",
       "2             5.68  1.03                          3.17     1185  \n",
       "3             7.80  0.86                          3.45     1480  \n",
       "4             4.32  1.04                          2.93      735  "
      ]
     },
     "execution_count": 202,
     "metadata": {},
     "output_type": "execute_result"
    }
   ],
   "source": [
    "df_wine=pd.read_csv('https://archive.ics.uci.edu/ml/machine-learning-databases/wine/wine.data',header=None)\n",
    "df_wine.columns=['Class label','Alcohol','Malic acid','Ash','Alcalinity of ash', 'Magnesium','Total phenols', 'Flavanoids',\n",
    "                 'Nonflacanoid phenols','Proanthocyanins','Color intensity','Hue','OD280/oD315 of diluted wines','Proline']\n",
    "print('클래스 레이블',np.unique(df_wine['Class label']))\n",
    "df_wine.head()\n",
    "# 클래스 레이블은 와인 포도 품종을 의미한다"
   ]
  },
  {
   "attachments": {},
   "cell_type": "markdown",
   "metadata": {},
   "source": [
    "### from sklearn.model_selection from train_test_split\n",
    "    - X,y에 특성을 할당\n",
    "    - train_test_split 함수를 사용해서 X,y를 랜덤하게 훈련 세트와 테스트 세트로 분할\n",
    "    - test_size =0.3으로 30프로가 X_test,y_test에 30퍼센트가 할당됨\n",
    "    - stratify = y 로 훈련세트와 테스트 세트에 있는 클래스 비율이 원본 데이터셋과 동일하게 유지"
   ]
  },
  {
   "cell_type": "code",
   "execution_count": 203,
   "metadata": {},
   "outputs": [
    {
     "name": "stdout",
     "output_type": "stream",
     "text": [
      "124 54\n",
      "0.30337078651685395\n"
     ]
    }
   ],
   "source": [
    "from sklearn.model_selection import train_test_split\n",
    "X,y = df_wine.iloc[:,1:] ,  df_wine.iloc[:,0]\n",
    "#print(X,y)\n",
    "X_train,X_test,y_train,y_test= train_test_split(X,y,test_size=0.3,random_state=0,stratify=y)\n",
    "\n",
    "print(len(X_train),len(X_test))\n",
    "print(54/(124+54))"
   ]
  },
  {
   "attachments": {},
   "cell_type": "markdown",
   "metadata": {},
   "source": [
    "### 스케일링\n",
    "    - 최대-최소 스케일 변환\n",
    "    - 정규화 표준화"
   ]
  },
  {
   "cell_type": "code",
   "execution_count": 204,
   "metadata": {},
   "outputs": [
    {
     "data": {
      "text/html": [
       "<div>\n",
       "<style scoped>\n",
       "    .dataframe tbody tr th:only-of-type {\n",
       "        vertical-align: middle;\n",
       "    }\n",
       "\n",
       "    .dataframe tbody tr th {\n",
       "        vertical-align: top;\n",
       "    }\n",
       "\n",
       "    .dataframe thead th {\n",
       "        text-align: right;\n",
       "    }\n",
       "</style>\n",
       "<table border=\"1\" class=\"dataframe\">\n",
       "  <thead>\n",
       "    <tr style=\"text-align: right;\">\n",
       "      <th></th>\n",
       "      <th>Alcohol</th>\n",
       "      <th>Malic acid</th>\n",
       "      <th>Ash</th>\n",
       "      <th>Alcalinity of ash</th>\n",
       "      <th>Magnesium</th>\n",
       "      <th>Total phenols</th>\n",
       "      <th>Flavanoids</th>\n",
       "      <th>Nonflacanoid phenols</th>\n",
       "      <th>Proanthocyanins</th>\n",
       "      <th>Color intensity</th>\n",
       "      <th>Hue</th>\n",
       "      <th>OD280/oD315 of diluted wines</th>\n",
       "      <th>Proline</th>\n",
       "    </tr>\n",
       "  </thead>\n",
       "  <tbody>\n",
       "    <tr>\n",
       "      <th>count</th>\n",
       "      <td>54.000000</td>\n",
       "      <td>54.000000</td>\n",
       "      <td>54.000000</td>\n",
       "      <td>54.000000</td>\n",
       "      <td>54.000000</td>\n",
       "      <td>54.000000</td>\n",
       "      <td>54.000000</td>\n",
       "      <td>54.000000</td>\n",
       "      <td>54.000000</td>\n",
       "      <td>54.000000</td>\n",
       "      <td>54.000000</td>\n",
       "      <td>54.000000</td>\n",
       "      <td>54.000000</td>\n",
       "    </tr>\n",
       "    <tr>\n",
       "      <th>mean</th>\n",
       "      <td>0.563988</td>\n",
       "      <td>0.376360</td>\n",
       "      <td>0.618115</td>\n",
       "      <td>0.499435</td>\n",
       "      <td>0.249886</td>\n",
       "      <td>0.409764</td>\n",
       "      <td>0.450994</td>\n",
       "      <td>0.362434</td>\n",
       "      <td>0.371467</td>\n",
       "      <td>0.394228</td>\n",
       "      <td>0.363185</td>\n",
       "      <td>0.495846</td>\n",
       "      <td>0.355095</td>\n",
       "    </tr>\n",
       "    <tr>\n",
       "      <th>std</th>\n",
       "      <td>0.231788</td>\n",
       "      <td>0.265082</td>\n",
       "      <td>0.181995</td>\n",
       "      <td>0.198735</td>\n",
       "      <td>0.181332</td>\n",
       "      <td>0.234760</td>\n",
       "      <td>0.287806</td>\n",
       "      <td>0.266649</td>\n",
       "      <td>0.177680</td>\n",
       "      <td>0.235705</td>\n",
       "      <td>0.209976</td>\n",
       "      <td>0.284428</td>\n",
       "      <td>0.247257</td>\n",
       "    </tr>\n",
       "    <tr>\n",
       "      <th>min</th>\n",
       "      <td>0.000000</td>\n",
       "      <td>0.000000</td>\n",
       "      <td>0.000000</td>\n",
       "      <td>0.000000</td>\n",
       "      <td>0.000000</td>\n",
       "      <td>0.000000</td>\n",
       "      <td>0.000000</td>\n",
       "      <td>0.000000</td>\n",
       "      <td>0.000000</td>\n",
       "      <td>0.000000</td>\n",
       "      <td>0.000000</td>\n",
       "      <td>0.000000</td>\n",
       "      <td>0.000000</td>\n",
       "    </tr>\n",
       "    <tr>\n",
       "      <th>25%</th>\n",
       "      <td>0.396577</td>\n",
       "      <td>0.189353</td>\n",
       "      <td>0.538462</td>\n",
       "      <td>0.335366</td>\n",
       "      <td>0.098765</td>\n",
       "      <td>0.218182</td>\n",
       "      <td>0.197409</td>\n",
       "      <td>0.168367</td>\n",
       "      <td>0.255226</td>\n",
       "      <td>0.210106</td>\n",
       "      <td>0.205128</td>\n",
       "      <td>0.205323</td>\n",
       "      <td>0.163090</td>\n",
       "    </tr>\n",
       "    <tr>\n",
       "      <th>50%</th>\n",
       "      <td>0.558036</td>\n",
       "      <td>0.265499</td>\n",
       "      <td>0.612179</td>\n",
       "      <td>0.496951</td>\n",
       "      <td>0.209877</td>\n",
       "      <td>0.405455</td>\n",
       "      <td>0.484756</td>\n",
       "      <td>0.255102</td>\n",
       "      <td>0.365854</td>\n",
       "      <td>0.353191</td>\n",
       "      <td>0.380342</td>\n",
       "      <td>0.557034</td>\n",
       "      <td>0.304721</td>\n",
       "    </tr>\n",
       "    <tr>\n",
       "      <th>75%</th>\n",
       "      <td>0.735119</td>\n",
       "      <td>0.571429</td>\n",
       "      <td>0.735577</td>\n",
       "      <td>0.657012</td>\n",
       "      <td>0.367284</td>\n",
       "      <td>0.559091</td>\n",
       "      <td>0.692073</td>\n",
       "      <td>0.530612</td>\n",
       "      <td>0.484321</td>\n",
       "      <td>0.528723</td>\n",
       "      <td>0.502137</td>\n",
       "      <td>0.754753</td>\n",
       "      <td>0.488197</td>\n",
       "    </tr>\n",
       "    <tr>\n",
       "      <th>max</th>\n",
       "      <td>1.000000</td>\n",
       "      <td>1.000000</td>\n",
       "      <td>1.000000</td>\n",
       "      <td>1.000000</td>\n",
       "      <td>1.000000</td>\n",
       "      <td>1.000000</td>\n",
       "      <td>1.000000</td>\n",
       "      <td>1.000000</td>\n",
       "      <td>1.000000</td>\n",
       "      <td>1.000000</td>\n",
       "      <td>1.000000</td>\n",
       "      <td>1.000000</td>\n",
       "      <td>1.000000</td>\n",
       "    </tr>\n",
       "  </tbody>\n",
       "</table>\n",
       "</div>"
      ],
      "text/plain": [
       "         Alcohol  Malic acid        Ash  Alcalinity of ash  Magnesium  \\\n",
       "count  54.000000   54.000000  54.000000          54.000000  54.000000   \n",
       "mean    0.563988    0.376360   0.618115           0.499435   0.249886   \n",
       "std     0.231788    0.265082   0.181995           0.198735   0.181332   \n",
       "min     0.000000    0.000000   0.000000           0.000000   0.000000   \n",
       "25%     0.396577    0.189353   0.538462           0.335366   0.098765   \n",
       "50%     0.558036    0.265499   0.612179           0.496951   0.209877   \n",
       "75%     0.735119    0.571429   0.735577           0.657012   0.367284   \n",
       "max     1.000000    1.000000   1.000000           1.000000   1.000000   \n",
       "\n",
       "       Total phenols  Flavanoids  Nonflacanoid phenols  Proanthocyanins  \\\n",
       "count      54.000000   54.000000             54.000000        54.000000   \n",
       "mean        0.409764    0.450994              0.362434         0.371467   \n",
       "std         0.234760    0.287806              0.266649         0.177680   \n",
       "min         0.000000    0.000000              0.000000         0.000000   \n",
       "25%         0.218182    0.197409              0.168367         0.255226   \n",
       "50%         0.405455    0.484756              0.255102         0.365854   \n",
       "75%         0.559091    0.692073              0.530612         0.484321   \n",
       "max         1.000000    1.000000              1.000000         1.000000   \n",
       "\n",
       "       Color intensity        Hue  OD280/oD315 of diluted wines    Proline  \n",
       "count        54.000000  54.000000                     54.000000  54.000000  \n",
       "mean          0.394228   0.363185                      0.495846   0.355095  \n",
       "std           0.235705   0.209976                      0.284428   0.247257  \n",
       "min           0.000000   0.000000                      0.000000   0.000000  \n",
       "25%           0.210106   0.205128                      0.205323   0.163090  \n",
       "50%           0.353191   0.380342                      0.557034   0.304721  \n",
       "75%           0.528723   0.502137                      0.754753   0.488197  \n",
       "max           1.000000   1.000000                      1.000000   1.000000  "
      ]
     },
     "execution_count": 204,
     "metadata": {},
     "output_type": "execute_result"
    }
   ],
   "source": [
    "from sklearn.preprocessing import MinMaxScaler\n",
    "mms=MinMaxScaler()\n",
    "X_train_norm = mms.fit_transform(X_train)\n",
    "X_test_norm=mms.fit_transform(X_test)\n",
    "\n",
    "# 데이터 프레임으로 만들고, describe()함수를 이용해 최대값, 최솟값을 확인해 본다.\n",
    "\n",
    "pd.DataFrame(X_test_norm,columns=['Alcohol','Malic acid','Ash','Alcalinity of ash', 'Magnesium','Total phenols', 'Flavanoids',\n",
    "                 'Nonflacanoid phenols','Proanthocyanins','Color intensity','Hue','OD280/oD315 of diluted wines','Proline']).describe()"
   ]
  },
  {
   "cell_type": "code",
   "execution_count": 205,
   "metadata": {},
   "outputs": [
    {
     "data": {
      "text/html": [
       "<div>\n",
       "<style scoped>\n",
       "    .dataframe tbody tr th:only-of-type {\n",
       "        vertical-align: middle;\n",
       "    }\n",
       "\n",
       "    .dataframe tbody tr th {\n",
       "        vertical-align: top;\n",
       "    }\n",
       "\n",
       "    .dataframe thead th {\n",
       "        text-align: right;\n",
       "    }\n",
       "</style>\n",
       "<table border=\"1\" class=\"dataframe\">\n",
       "  <thead>\n",
       "    <tr style=\"text-align: right;\">\n",
       "      <th></th>\n",
       "      <th>Alcohol</th>\n",
       "      <th>Malic acid</th>\n",
       "      <th>Ash</th>\n",
       "      <th>Alcalinity of ash</th>\n",
       "      <th>Magnesium</th>\n",
       "      <th>Total phenols</th>\n",
       "      <th>Flavanoids</th>\n",
       "      <th>Nonflacanoid phenols</th>\n",
       "      <th>Proanthocyanins</th>\n",
       "      <th>Color intensity</th>\n",
       "      <th>Hue</th>\n",
       "      <th>OD280/oD315 of diluted wines</th>\n",
       "      <th>Proline</th>\n",
       "    </tr>\n",
       "  </thead>\n",
       "  <tbody>\n",
       "    <tr>\n",
       "      <th>count</th>\n",
       "      <td>5.400000e+01</td>\n",
       "      <td>5.400000e+01</td>\n",
       "      <td>5.400000e+01</td>\n",
       "      <td>5.400000e+01</td>\n",
       "      <td>5.400000e+01</td>\n",
       "      <td>5.400000e+01</td>\n",
       "      <td>5.400000e+01</td>\n",
       "      <td>5.400000e+01</td>\n",
       "      <td>5.400000e+01</td>\n",
       "      <td>5.400000e+01</td>\n",
       "      <td>5.400000e+01</td>\n",
       "      <td>5.400000e+01</td>\n",
       "      <td>5.400000e+01</td>\n",
       "    </tr>\n",
       "    <tr>\n",
       "      <th>mean</th>\n",
       "      <td>1.149543e-15</td>\n",
       "      <td>5.139921e-16</td>\n",
       "      <td>-7.627643e-16</td>\n",
       "      <td>-1.511137e-16</td>\n",
       "      <td>-4.759567e-16</td>\n",
       "      <td>3.268990e-16</td>\n",
       "      <td>2.261565e-17</td>\n",
       "      <td>2.426043e-16</td>\n",
       "      <td>8.198175e-16</td>\n",
       "      <td>4.646489e-16</td>\n",
       "      <td>-1.891491e-16</td>\n",
       "      <td>1.295260e-15</td>\n",
       "      <td>-1.110223e-16</td>\n",
       "    </tr>\n",
       "    <tr>\n",
       "      <th>std</th>\n",
       "      <td>1.009390e+00</td>\n",
       "      <td>1.009390e+00</td>\n",
       "      <td>1.009390e+00</td>\n",
       "      <td>1.009390e+00</td>\n",
       "      <td>1.009390e+00</td>\n",
       "      <td>1.009390e+00</td>\n",
       "      <td>1.009390e+00</td>\n",
       "      <td>1.009390e+00</td>\n",
       "      <td>1.009390e+00</td>\n",
       "      <td>1.009390e+00</td>\n",
       "      <td>1.009390e+00</td>\n",
       "      <td>1.009390e+00</td>\n",
       "      <td>1.009390e+00</td>\n",
       "    </tr>\n",
       "    <tr>\n",
       "      <th>min</th>\n",
       "      <td>-2.456052e+00</td>\n",
       "      <td>-1.433119e+00</td>\n",
       "      <td>-3.428222e+00</td>\n",
       "      <td>-2.536669e+00</td>\n",
       "      <td>-1.390998e+00</td>\n",
       "      <td>-1.761847e+00</td>\n",
       "      <td>-1.581720e+00</td>\n",
       "      <td>-1.371982e+00</td>\n",
       "      <td>-2.110289e+00</td>\n",
       "      <td>-1.688249e+00</td>\n",
       "      <td>-1.745887e+00</td>\n",
       "      <td>-1.759678e+00</td>\n",
       "      <td>-1.449624e+00</td>\n",
       "    </tr>\n",
       "    <tr>\n",
       "      <th>25%</th>\n",
       "      <td>-7.290392e-01</td>\n",
       "      <td>-7.120931e-01</td>\n",
       "      <td>-4.417778e-01</td>\n",
       "      <td>-8.333213e-01</td>\n",
       "      <td>-8.412168e-01</td>\n",
       "      <td>-8.237394e-01</td>\n",
       "      <td>-8.893709e-01</td>\n",
       "      <td>-7.346329e-01</td>\n",
       "      <td>-6.603588e-01</td>\n",
       "      <td>-7.884851e-01</td>\n",
       "      <td>-7.598026e-01</td>\n",
       "      <td>-1.031019e+00</td>\n",
       "      <td>-7.838311e-01</td>\n",
       "    </tr>\n",
       "    <tr>\n",
       "      <th>50%</th>\n",
       "      <td>-2.592139e-02</td>\n",
       "      <td>-4.221430e-01</td>\n",
       "      <td>-3.291936e-02</td>\n",
       "      <td>-1.261739e-02</td>\n",
       "      <td>-2.227125e-01</td>\n",
       "      <td>-1.853052e-02</td>\n",
       "      <td>1.184112e-01</td>\n",
       "      <td>-4.063014e-01</td>\n",
       "      <td>-3.189076e-02</td>\n",
       "      <td>-1.757345e-01</td>\n",
       "      <td>8.247807e-02</td>\n",
       "      <td>2.171486e-01</td>\n",
       "      <td>-2.056429e-01</td>\n",
       "    </tr>\n",
       "    <tr>\n",
       "      <th>75%</th>\n",
       "      <td>7.452401e-01</td>\n",
       "      <td>7.427892e-01</td>\n",
       "      <td>6.514741e-01</td>\n",
       "      <td>8.003440e-01</td>\n",
       "      <td>6.535020e-01</td>\n",
       "      <td>6.420535e-01</td>\n",
       "      <td>8.455113e-01</td>\n",
       "      <td>6.366342e-01</td>\n",
       "      <td>6.411143e-01</td>\n",
       "      <td>5.759670e-01</td>\n",
       "      <td>6.679658e-01</td>\n",
       "      <td>9.188210e-01</td>\n",
       "      <td>5.433736e-01</td>\n",
       "    </tr>\n",
       "    <tr>\n",
       "      <th>max</th>\n",
       "      <td>1.898742e+00</td>\n",
       "      <td>2.374721e+00</td>\n",
       "      <td>2.118032e+00</td>\n",
       "      <td>2.542404e+00</td>\n",
       "      <td>4.175541e+00</td>\n",
       "      <td>2.537812e+00</td>\n",
       "      <td>1.925469e+00</td>\n",
       "      <td>2.413487e+00</td>\n",
       "      <td>3.570666e+00</td>\n",
       "      <td>2.594172e+00</td>\n",
       "      <td>3.061275e+00</td>\n",
       "      <td>1.789165e+00</td>\n",
       "      <td>2.632736e+00</td>\n",
       "    </tr>\n",
       "  </tbody>\n",
       "</table>\n",
       "</div>"
      ],
      "text/plain": [
       "            Alcohol    Malic acid           Ash  Alcalinity of ash  \\\n",
       "count  5.400000e+01  5.400000e+01  5.400000e+01       5.400000e+01   \n",
       "mean   1.149543e-15  5.139921e-16 -7.627643e-16      -1.511137e-16   \n",
       "std    1.009390e+00  1.009390e+00  1.009390e+00       1.009390e+00   \n",
       "min   -2.456052e+00 -1.433119e+00 -3.428222e+00      -2.536669e+00   \n",
       "25%   -7.290392e-01 -7.120931e-01 -4.417778e-01      -8.333213e-01   \n",
       "50%   -2.592139e-02 -4.221430e-01 -3.291936e-02      -1.261739e-02   \n",
       "75%    7.452401e-01  7.427892e-01  6.514741e-01       8.003440e-01   \n",
       "max    1.898742e+00  2.374721e+00  2.118032e+00       2.542404e+00   \n",
       "\n",
       "          Magnesium  Total phenols    Flavanoids  Nonflacanoid phenols  \\\n",
       "count  5.400000e+01   5.400000e+01  5.400000e+01          5.400000e+01   \n",
       "mean  -4.759567e-16   3.268990e-16  2.261565e-17          2.426043e-16   \n",
       "std    1.009390e+00   1.009390e+00  1.009390e+00          1.009390e+00   \n",
       "min   -1.390998e+00  -1.761847e+00 -1.581720e+00         -1.371982e+00   \n",
       "25%   -8.412168e-01  -8.237394e-01 -8.893709e-01         -7.346329e-01   \n",
       "50%   -2.227125e-01  -1.853052e-02  1.184112e-01         -4.063014e-01   \n",
       "75%    6.535020e-01   6.420535e-01  8.455113e-01          6.366342e-01   \n",
       "max    4.175541e+00   2.537812e+00  1.925469e+00          2.413487e+00   \n",
       "\n",
       "       Proanthocyanins  Color intensity           Hue  \\\n",
       "count     5.400000e+01     5.400000e+01  5.400000e+01   \n",
       "mean      8.198175e-16     4.646489e-16 -1.891491e-16   \n",
       "std       1.009390e+00     1.009390e+00  1.009390e+00   \n",
       "min      -2.110289e+00    -1.688249e+00 -1.745887e+00   \n",
       "25%      -6.603588e-01    -7.884851e-01 -7.598026e-01   \n",
       "50%      -3.189076e-02    -1.757345e-01  8.247807e-02   \n",
       "75%       6.411143e-01     5.759670e-01  6.679658e-01   \n",
       "max       3.570666e+00     2.594172e+00  3.061275e+00   \n",
       "\n",
       "       OD280/oD315 of diluted wines       Proline  \n",
       "count                  5.400000e+01  5.400000e+01  \n",
       "mean                   1.295260e-15 -1.110223e-16  \n",
       "std                    1.009390e+00  1.009390e+00  \n",
       "min                   -1.759678e+00 -1.449624e+00  \n",
       "25%                   -1.031019e+00 -7.838311e-01  \n",
       "50%                    2.171486e-01 -2.056429e-01  \n",
       "75%                    9.188210e-01  5.433736e-01  \n",
       "max                    1.789165e+00  2.632736e+00  "
      ]
     },
     "execution_count": 205,
     "metadata": {},
     "output_type": "execute_result"
    }
   ],
   "source": [
    "from sklearn.preprocessing import StandardScaler\n",
    "stdsc= StandardScaler()\n",
    "X_train_std= stdsc.fit_transform(X_train)\n",
    "X_test_std= stdsc.fit_transform(X_test)\n",
    "\n",
    "# 데이터 프레임으로 만들고 , descibe()함수를 이용해 평균, 표준편차 값을 확인해본다\n",
    "\n",
    "pd.DataFrame(data= X_test_std,columns=['Alcohol','Malic acid','Ash','Alcalinity of ash', 'Magnesium','Total phenols', 'Flavanoids',\n",
    "                 'Nonflacanoid phenols','Proanthocyanins','Color intensity','Hue','OD280/oD315 of diluted wines','Proline']).describe()"
   ]
  },
  {
   "attachments": {},
   "cell_type": "markdown",
   "metadata": {},
   "source": [
    "## 차원 축소를 위한 PCA 알고리즘\n",
    "    - 주성분 분석\n",
    "    - 고차원 데이터에서 분산이 가장 큰 방향을 찾고, 좀 더 작거나 같은 수의 차원을 갖는 새로운 부분 공간으로 이를 투영\n",
    "        1. d차원 데이터셋을 표준화,전처리 함\n",
    "        2. 공분산 행렬을 만든다\n",
    "        3. 공분산 행렬을 고유벡터, 고유값으로 분해\n",
    "        4. 고윳값을 내림차순으로 정렬하고, 그에 해당하는 고유 벡터의 순위를 매긴다\n",
    "        5. 고윳값이 가장 큰 k개의 고유 벡터를 선택!-> k는 새로운 특성 부분 공간의 차원(k<d)\n",
    "        6. 최상위 k개의 고유 벡터로 투영 행렬 W를 만든다\n",
    "        7. 투영 행렬 W(d*k)를 사용해서 d차원 입력 데이터셋 X를 새로운 k 차원의 특성 부분 공간으로 변환한다"
   ]
  },
  {
   "attachments": {},
   "cell_type": "markdown",
   "metadata": {},
   "source": [
    "### 주성분 추출 단계\n",
    "    1. 데이터를 표준화 전처리\n",
    "    2. 공분산 행렬\n",
    "    3. 공분산 행렬의 고윳값과 고유 벡터 구하기\n",
    "    4. 고윳값을 내림차순으로 정렬하여 고유 벡터의 순위를 매긴다."
   ]
  },
  {
   "attachments": {},
   "cell_type": "markdown",
   "metadata": {},
   "source": [
    "1. 데이터 표준화 전처리"
   ]
  },
  {
   "cell_type": "code",
   "execution_count": 206,
   "metadata": {},
   "outputs": [],
   "source": [
    "df_wine=pd.read_csv('https://archive.ics.uci.edu/ml/machine-learning-databases/wine/wine.data',header=None)\n",
    "df_wine.columns=['Class label','Alcohol','Malic acid','Ash','Alcalinity of ash', 'Magnesium','Total phenols', 'Flavanoids',\n",
    "                 'Nonflacanoid phenols','Proanthocyanins','Color intensity','Hue','OD280/oD315 of diluted wines','Proline']\n",
    "\n",
    "from sklearn.model_selection import train_test_split\n",
    "X,y = df_wine.iloc[:,1:].values ,  df_wine.iloc[:,0].values\n",
    "X_train,X_test,y_train,y_test= train_test_split(X,y,test_size=0.3,random_state=0,stratify=y)\n",
    "# 특성을 표준화 전처리하기\n",
    "from sklearn.preprocessing import StandardScaler\n",
    "stdsc= StandardScaler()\n",
    "X_train_std= stdsc.fit_transform(X_train)\n",
    "X_test_std= stdsc.fit_transform(X_test)\n",
    "\n"
   ]
  },
  {
   "attachments": {},
   "cell_type": "markdown",
   "metadata": {},
   "source": [
    "2. 공분산 행렬\n",
    "    - d X d 차원의 대칭 행렬로 특성 상호 간의 공분산을 저장\n",
    "    - 열의 평균을 구하고 원래 행렬에서 빼줘서, 중심화된 데이터 행렬 mu를 구한다\n",
    "    - Cov= 1/(n-1)  X  중심화된데이터 행렬  X 중심화된데이터 행렬의 전치 행렬\n",
    "    - np.cov()  --> 안에 rowvar 매개변수의 기본값(True)에 따라 각 행을 하나의 변수(feature)로 취급하게 됩니다. \n",
    "    - np.cov()  --> 안에 전치 행렬 넣기"
   ]
  },
  {
   "attachments": {},
   "cell_type": "markdown",
   "metadata": {},
   "source": [
    "3. 공분산 행렬의 고윳값과 고유 벡터 구하기"
   ]
  },
  {
   "cell_type": "code",
   "execution_count": 207,
   "metadata": {},
   "outputs": [
    {
     "name": "stdout",
     "output_type": "stream",
     "text": [
      "\n",
      " 고유값 \n",
      "[4.84274532 2.41602459 1.54845825 0.96120438 0.84166161 0.6620634\n",
      " 0.51828472 0.34650377 0.3131368  0.10754642 0.21357215 0.15362835\n",
      " 0.1808613 ]\n",
      "\n",
      " 고유벡터 \n",
      "[[-1.37242175e-01  5.03034778e-01 -1.37748734e-01 -3.29610003e-03\n",
      "   2.90625226e-01 -2.99096847e-01 -7.90529293e-02  3.68176414e-01\n",
      "   3.98377017e-01 -9.44869777e-02  3.74638877e-01 -1.27834515e-01\n",
      "   2.62834263e-01]\n",
      " [ 2.47243265e-01  1.64871190e-01  9.61503863e-02  5.62646692e-01\n",
      "  -8.95378697e-02 -6.27036396e-01  2.74002014e-01  1.25775752e-02\n",
      "  -1.10458230e-01  2.63652406e-02 -1.37405597e-01  8.06401578e-02\n",
      "  -2.66769211e-01]\n",
      " [-2.54515927e-02  2.44564761e-01  6.77775667e-01 -1.08977111e-01\n",
      "   1.60834991e-01 -3.89128239e-04 -1.32328045e-01 -1.77578177e-01\n",
      "  -3.82496856e-01  1.42747511e-01  4.61583035e-01  1.67924873e-02\n",
      "  -1.15542548e-01]\n",
      " [ 2.06945084e-01 -1.13529045e-01  6.25040550e-01  3.38187002e-02\n",
      "  -5.15873402e-02  4.05836452e-02 -2.23999097e-01  4.40592110e-01\n",
      "   2.43373853e-01 -1.30485780e-01 -4.18953989e-01 -1.10845657e-01\n",
      "   1.99483410e-01]\n",
      " [-1.54365821e-01  2.89745182e-01  1.96135481e-01 -3.67511070e-01\n",
      "  -6.76487073e-01 -6.57772614e-02  4.05268966e-01 -1.16617503e-01\n",
      "   2.58982359e-01 -6.76080782e-02  1.00470630e-02  7.93879562e-02\n",
      "   2.89018810e-02]\n",
      " [-3.93769523e-01  5.08010391e-02  1.40310572e-01  2.40245127e-01\n",
      "   1.18511144e-01  5.89776247e-02  3.47419412e-02 -3.50192127e-01\n",
      "   3.42312860e-01  4.59917661e-01 -2.21254241e-01 -4.91459313e-01\n",
      "  -6.63868598e-02]\n",
      " [-4.17351064e-01 -2.28733792e-02  1.17053859e-01  1.87053299e-01\n",
      "   1.07100349e-01  3.01103180e-02 -4.17835724e-02 -2.18718183e-01\n",
      "   3.61231642e-02 -8.14583947e-01 -4.17513600e-02 -5.03074004e-02\n",
      "  -2.13349079e-01]\n",
      " [ 3.05728961e-01  9.04888470e-02  1.31217777e-01 -2.29262234e-02\n",
      "   5.07581610e-01  2.71728086e-01  6.31145686e-01 -1.97129425e-01\n",
      "   1.71436883e-01 -9.57480885e-02 -8.87569452e-02  1.75328030e-01\n",
      "   1.86391279e-01]\n",
      " [-3.06683469e-01  8.35232677e-03  3.04309008e-02  4.96262330e-01\n",
      "  -2.01634619e-01  4.39997519e-01  3.23122775e-01  4.33055871e-01\n",
      "  -2.44370210e-01  6.72468934e-02  1.99921861e-01 -3.67595797e-03\n",
      "   1.68082985e-01]\n",
      " [ 7.55406578e-02  5.49775805e-01 -7.99299713e-02  1.06482939e-01\n",
      "  -5.73607091e-03  4.11743459e-01 -2.69082623e-01  6.68411823e-02\n",
      "   1.55514919e-01  8.73336218e-02 -2.21668868e-01  3.59756535e-01\n",
      "  -4.66369031e-01]\n",
      " [-3.26132628e-01 -2.07164328e-01  5.30591506e-02 -3.69053747e-01\n",
      "   2.76914216e-01 -1.41673377e-01  3.02640661e-01  4.59762295e-01\n",
      "  -2.11961247e-02  1.29061125e-01 -9.84694573e-02  4.04669797e-02\n",
      "  -5.32483880e-01]\n",
      " [-3.68610222e-01 -2.49025357e-01  1.32391030e-01  1.42016088e-01\n",
      "   6.66275572e-02 -1.75842384e-01 -1.30540143e-01 -1.10827548e-01\n",
      "   2.38089559e-01  1.87646268e-01  1.91205783e-02  7.42229543e-01\n",
      "   2.37835283e-01]\n",
      " [-2.96696514e-01  3.80229423e-01 -7.06502178e-02 -1.67682173e-01\n",
      "   1.28029045e-01 -1.38018388e-01 -8.11335043e-04 -5.60817288e-03\n",
      "  -5.17278463e-01  1.21112574e-02 -5.42532072e-01  3.87395209e-02\n",
      "   3.67763359e-01]]\n"
     ]
    }
   ],
   "source": [
    "import numpy as np\n",
    "cov_mat = np.cov(X_train_std.T)\n",
    "eigen_vals , eigen_vecs = np.linalg.eig(cov_mat)\n",
    "print('\\n 고유값 \\n%s' %eigen_vals)\n",
    "print('\\n 고유벡터 \\n%s' %eigen_vecs)\n"
   ]
  },
  {
   "attachments": {},
   "cell_type": "markdown",
   "metadata": {},
   "source": [
    "4. 고윳값을 내림차순으로 정렬하여 고유 벡터의 순위를 매긴다.\n",
    "    - 공분산 행렬의 고유값은 해당 데이터 세트의 주성분을 설명하는데 사용되며, 각 주성분의 중요도를 나타낸다\n",
    "    - 공분산 행렬의 고유값이 클수록 해당 주성분이 데이터에서 설명하는 분산이 크다는 것을 의미한다.\n",
    "    - PCA(Principal Component Analysis)에서 고유값이 분산으로 여겨지는 이유\n",
    "    - 분산 행렬의 고유값은 데이터의 분산을 나타내는 것이 아니라, 데이터의 주성분과 그 중요도를 나타내는데 사용된다."
   ]
  },
  {
   "cell_type": "code",
   "execution_count": 208,
   "metadata": {},
   "outputs": [
    {
     "data": {
      "image/png": "[encoded data removed]",
      "text/plain": [
       "<Figure size 640x480 with 1 Axes>"
      ]
     },
     "metadata": {},
     "output_type": "display_data"
    }
   ],
   "source": [
    "# 전체 분산의 합\n",
    "tot= sum(eigen_vals)\n",
    "var_exp= [(i/tot) for i in sorted(eigen_vals,reverse=True)]\n",
    "cum_var_exp = np.cumsum(var_exp)                    # 누적합\n",
    "\n",
    "import matplotlib.pyplot as plt\n",
    "plt.bar(range(1,14), var_exp,alpha=0.5,align='center',label='individual explained variance')\n",
    "plt.step(range(1,14),cum_var_exp , where='mid',label='cumlatived explained variance')\n",
    "plt.xlabel('Explained variance ratio')\n",
    "plt.ylabel('Principal component index')\n",
    "plt.legend(loc='best')\n",
    "plt.tight_layout()                  # plt.tight_layout() 함수를 사용하면, subplot들이 서로 충돌하지 않도록 간격을 자동으로 조정해줌\n",
    "plt.show()"
   ]
  },
  {
   "attachments": {},
   "cell_type": "markdown",
   "metadata": {},
   "source": [
    "### 특성 변환\n",
    "    - 공분산 행렬을 고유 벡터와 고윳값 쌍으로 분해한 후, Wine 데이터셋을 새로운 주성분 축으로 변환하는 단계\n",
    "        1. 고윳값이 가장 큰 k개의 고유 벡터를 선택(k<d)-->이때 k는 새로운 k타원의 특성 부분 공간\n",
    "        2. 최상위 k개의 고유 벡터로 투영행렬 W를 만든다\n",
    "        3. 투영 행렬 W를 사용하여 d차원 데이터셋 X를 k차원의 특성 부분 공간으로 변환한다 "
   ]
  },
  {
   "attachments": {},
   "cell_type": "markdown",
   "metadata": {},
   "source": [
    "- 분산 행렬의 고유벡터는 해당 데이터셋의 분산과 공분산을 가장 잘 설명하는 방향 벡터를 나타내며, 고유값은 그 방향으로 설명 가능한 분산의 크기를 나타냅니다. 이렇게 구한 고유벡터와 고유값을 이용하여 PCA를 수행할 수 있습니다."
   ]
  },
  {
   "cell_type": "code",
   "execution_count": 209,
   "metadata": {},
   "outputs": [
    {
     "data": {
      "text/plain": [
       "array([-0.13724218,  0.24724326, -0.02545159,  0.20694508, -0.15436582,\n",
       "       -0.39376952, -0.41735106,  0.30572896, -0.30668347,  0.07554066,\n",
       "       -0.32613263, -0.36861022, -0.29669651])"
      ]
     },
     "execution_count": 209,
     "metadata": {},
     "output_type": "execute_result"
    }
   ],
   "source": [
    "# (고윳값,고유벡터) 튜플의 리스트를 만든다\n",
    "eigen_pairs = [(np.abs(eigen_vals[i]), eigen_vecs[:,i]) for i in range(len(eigen_vals))]\n",
    "\n",
    "# 높은 값에서 낮은 값으로 (고윳값, 고유벡터) 튜플로 정렬한다\n",
    "eigen_pairs.sort(key=lambda k :k[0],reverse=True)\n",
    "eigen_pairs[0][1]"
   ]
  },
  {
   "cell_type": "code",
   "execution_count": 210,
   "metadata": {},
   "outputs": [
    {
     "name": "stdout",
     "output_type": "stream",
     "text": [
      "투영행렬W:\n",
      " [[-0.13724218  0.50303478]\n",
      " [ 0.24724326  0.16487119]\n",
      " [-0.02545159  0.24456476]\n",
      " [ 0.20694508 -0.11352904]\n",
      " [-0.15436582  0.28974518]\n",
      " [-0.39376952  0.05080104]\n",
      " [-0.41735106 -0.02287338]\n",
      " [ 0.30572896  0.09048885]\n",
      " [-0.30668347  0.00835233]\n",
      " [ 0.07554066  0.54977581]\n",
      " [-0.32613263 -0.20716433]\n",
      " [-0.36861022 -0.24902536]\n",
      " [-0.29669651  0.38022942]]\n"
     ]
    }
   ],
   "source": [
    "#  np.hstack() : Numpy의 라이브러리 함수로 주어진 배열을 수평적으로 결합하여 새로운 배열을 생성\n",
    "#  np.newaxis  : Numpy의 새로운 축을 추가하기 위해 사용되는 인덱싱 개체, 차원을 확장시킴\n",
    "\n",
    "w=np.hstack((eigen_pairs[0][1][:,np.newaxis],\n",
    "            eigen_pairs[1][1][:,np.newaxis]))\n",
    "print('투영행렬W:\\n',w)"
   ]
  },
  {
   "attachments": {},
   "cell_type": "markdown",
   "metadata": {},
   "source": [
    "### 투영 행렬 W를 사용하여 d차원 데이터셋 X를 k차원의 특성 부분 공간으로 변환한다 \n",
    "    - z= xW\n",
    "    - dot(W) : Numpy의 행렬 곱"
   ]
  },
  {
   "cell_type": "code",
   "execution_count": 211,
   "metadata": {},
   "outputs": [
    {
     "data": {
      "text/plain": [
       "array([2.38299011, 0.45458499])"
      ]
     },
     "execution_count": 211,
     "metadata": {},
     "output_type": "execute_result"
    }
   ],
   "source": [
    "X_train_std[0].dot(w)"
   ]
  },
  {
   "cell_type": "code",
   "execution_count": 246,
   "metadata": {},
   "outputs": [
    {
     "data": {
      "text/plain": [
       "124"
      ]
     },
     "execution_count": 246,
     "metadata": {},
     "output_type": "execute_result"
    }
   ],
   "source": [
    "X_train_pca= X_train_std.dot(w)\n",
    "len(X_train_pca)"
   ]
  },
  {
   "cell_type": "code",
   "execution_count": 213,
   "metadata": {},
   "outputs": [
    {
     "data": {
      "text/plain": [
       "array([1, 2, 3], dtype=int64)"
      ]
     },
     "execution_count": 213,
     "metadata": {},
     "output_type": "execute_result"
    }
   ],
   "source": [
    "np.unique(y_train)"
   ]
  },
  {
   "cell_type": "code",
   "execution_count": 214,
   "metadata": {},
   "outputs": [
    {
     "data": {
      "image/png": "[encoded data removed]",
      "text/plain": [
       "<Figure size 640x480 with 1 Axes>"
      ]
     },
     "metadata": {},
     "output_type": "display_data"
    }
   ],
   "source": [
    "colors =['r','b','g']\n",
    "markers = ['s','x','o']\n",
    "\n",
    "for l, c, m in zip(np.unique(y_train),colors,markers):\n",
    "    plt.scatter(X_train_pca[y_train==l,0],\n",
    "                X_train_pca[y_train==l,1],\n",
    "                c=c , label=l,marker=m)\n",
    "plt.xlabel('PC 1')\n",
    "plt.ylabel('PC 2')\n",
    "plt.legend(loc='lower left')\n",
    "plt.tight_layout()\n",
    "plt.show()"
   ]
  },
  {
   "attachments": {},
   "cell_type": "markdown",
   "metadata": {},
   "source": [
    "# 사이킷런의 PCA클래스의 사용법"
   ]
  },
  {
   "cell_type": "code",
   "execution_count": 250,
   "metadata": {},
   "outputs": [],
   "source": [
    "from matplotlib.colors import ListedColormap\n",
    "\n",
    "def plot_decision_regions(X,y,classifier, resolution=0.02):\n",
    "    #마커와 경계를 그린다\n",
    "    markers=('s','x','o','^','v')\n",
    "    colors= ('red','blue','lightgreen','gray','cyan')\n",
    "    cmap=ListedColormap(colors[:len(np.unique(y))])\n",
    "\n",
    "    #결정 경계를 그린다\n",
    "    X1_min, X1_max =X[:,0].min() -1, X[:,0].max()+1\n",
    "    X2_min, X2_max =X[:,1].min() -1, X[:,1].max()+1\n",
    "    xx1,xx2 =np.meshgrid(np.arange(X1_min,X1_max,resolution),\n",
    "                         np.arange(X2_min,X2_max,resolution))\n",
    "    Z =classifier.predict(np.array([xx1.ravel(),xx2.ravel()]).T)\n",
    "    Z=Z.reshape(xx1.shape)\n",
    "    plt.contourf(xx1,xx2,Z,alpha=0.4,cmap=cmap)\n",
    "    plt.xlim(xx1.min(),xx1.max())\n",
    "    plt.ylim(xx2.min(),xx2.max())\n",
    "\n",
    "    #클래스 샘플을 표시한다\n",
    "    for idx,cl in enumerate(np.unique(y)):\n",
    "        plt.scatter(x=X[y==cl,0],\n",
    "                    y=X[y==cl,1],\n",
    "                    alpha=0.6,\n",
    "                    c=cmap.colors[idx],\n",
    "                    edgecolors='black',\n",
    "                    marker=markers[idx],\n",
    "                    label=cl)"
   ]
  },
  {
   "cell_type": "code",
   "execution_count": 245,
   "metadata": {},
   "outputs": [
    {
     "data": {
      "text/plain": [
       "178"
      ]
     },
     "execution_count": 245,
     "metadata": {},
     "output_type": "execute_result"
    }
   ],
   "source": [
    "len(y)"
   ]
  },
  {
   "cell_type": "code",
   "execution_count": 251,
   "metadata": {},
   "outputs": [
    {
     "name": "stderr",
     "output_type": "stream",
     "text": [
      "C:\\Users\\dgh06\\AppData\\Local\\Temp\\ipykernel_24636\\4172356310.py:22: UserWarning: You passed a edgecolor/edgecolors ('black') for an unfilled marker ('x').  Matplotlib is ignoring the edgecolor in favor of the facecolor.  This behavior may change in the future.\n",
      "  plt.scatter(x=X[y==cl,0],\n"
     ]
    },
    {
     "data": {
      "image/png": "[encoded data removed]",
      "text/plain": [
       "<Figure size 640x480 with 1 Axes>"
      ]
     },
     "metadata": {},
     "output_type": "display_data"
    }
   ],
   "source": [
    "from sklearn.linear_model import LogisticRegression\n",
    "from sklearn.decomposition import PCA\n",
    "pca=PCA(n_components=2)\n",
    "X_train_pca = pca.fit_transform(X_train_std)\n",
    "X_test_pca =  pca.fit_transform(X_test_std)\n",
    "lr=LogisticRegression(solver='liblinear',multi_class='auto')\n",
    "lr.fit(X_train_pca,y_train)\n",
    "\n",
    "plot_decision_regions(X_train_pca,y_train,classifier=lr)\n",
    "plt.xlabel('PC 1')\n",
    "plt.ylabel('PC 2')\n",
    "plt.legend(loc='lower left')\n",
    "plt.tight_layout()\n",
    "plt.show()"
   ]
  },
  {
   "cell_type": "code",
   "execution_count": 253,
   "metadata": {},
   "outputs": [],
   "source": [
    "from matplotlib.colors import ListedColormap\n",
    "\n",
    "def plot_decision_regions(X,y,classifier, resolution=0.02):\n",
    "    #마커와 경계를 그린다\n",
    "    markers=('s','x','o','^','v')\n",
    "    colors= ('red','blue','lightgreen','gray','cyan')\n",
    "    cmap=ListedColormap(colors[:len(np.unique(y))])\n",
    "\n",
    "    #결정 경계를 그린다\n",
    "    X1_min, X1_max =X[:,0].min() -1, X[:,0].max()+1\n",
    "    X2_min, X2_max =X[:,1].min() -1, X[:,1].max()+1\n",
    "    xx1,xx2 =np.meshgrid(np.arange(X1_min,X1_max,resolution),\n",
    "                         np.arange(X2_min,X2_max,resolution))\n",
    "    Z =classifier.predict(np.array([xx1.ravel(),xx2.ravel()]).T)\n",
    "    Z=Z.reshape(xx1.shape)\n",
    "    plt.contourf(xx1,xx2,Z,alpha=0.4,cmap=cmap)\n",
    "    plt.xlim(xx1.min(),xx1.max())\n",
    "    plt.ylim(xx2.min(),xx2.max())\n",
    "\n",
    "    #클래스 샘플을 표시한다\n",
    "    for idx,cl in enumerate(np.unique(y)):\n",
    "        plt.scatter(x=X[y==cl,0]*(-1),\n",
    "                    y=X[y==cl,1]*(-1),\n",
    "                    alpha=0.6,\n",
    "                    c=cmap.colors[idx],\n",
    "                    edgecolors='black',\n",
    "                    marker=markers[idx],\n",
    "                    label=cl)"
   ]
  },
  {
   "cell_type": "code",
   "execution_count": 254,
   "metadata": {},
   "outputs": [
    {
     "name": "stderr",
     "output_type": "stream",
     "text": [
      "C:\\Users\\dgh06\\AppData\\Local\\Temp\\ipykernel_24636\\4139705441.py:22: UserWarning: You passed a edgecolor/edgecolors ('black') for an unfilled marker ('x').  Matplotlib is ignoring the edgecolor in favor of the facecolor.  This behavior may change in the future.\n",
      "  plt.scatter(x=X[y==cl,0]*(-1),\n"
     ]
    },
    {
     "data": {
      "image/png": "[encoded data removed]",
      "text/plain": [
       "<Figure size 640x480 with 1 Axes>"
      ]
     },
     "metadata": {},
     "output_type": "display_data"
    }
   ],
   "source": [
    "plot_decision_regions(X_test_pca,y_test,classifier=lr)\n",
    "plt.xlabel('PC 1')\n",
    "plt.ylabel('PC 2')\n",
    "plt.legend(loc='lower left')\n",
    "plt.tight_layout()\n",
    "plt.show()"
   ]
  },
  {
   "cell_type": "code",
   "execution_count": null,
   "metadata": {},
   "outputs": [],
   "source": [
    " "
   ]
  }
 ],
 "metadata": {
  "kernelspec": {
   "display_name": "base",
   "language": "python",
   "name": "python3"
  },
  "language_info": {
   "codemirror_mode": {
    "name": "ipython",
    "version": 3
   },
   "file_extension": ".py",
   "mimetype": "text/x-python",
   "name": "python",
   "nbconvert_exporter": "python",
   "pygments_lexer": "ipython3",
   "version": "3.9.13"
  },
  "orig_nbformat": 4
 },
 "nbformat": 4,
 "nbformat_minor": 2
}
