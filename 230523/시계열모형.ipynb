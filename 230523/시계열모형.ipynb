{
 "cells": [
  {
   "attachments": {},
   "cell_type": "markdown",
   "metadata": {},
   "source": [
    "## Arima\n",
    "- Autoregressive Integrated Moving Average 라는 뜻으로, AR(Autoregression) 모형과 MA(Moving Average) 모형을 합친 모형이다.\n"
   ]
  },
  {
   "attachments": {},
   "cell_type": "markdown",
   "metadata": {},
   "source": [
    "#### 정상 시계열 변환\n",
    "1. 변동폭이 일정하지 않은 경우 -> 로그 변환\n",
    "2. 추세, 계절성이 존재하는 경우 -> 차분(differencing) 단, 1차 차분으로 정상성을 띄지 않으면, 차분을 반복한다.\n"
   ]
  },
  {
   "attachments": {},
   "cell_type": "markdown",
   "metadata": {},
   "source": [
    "## AR 모형\n",
    "- 자귀 회귀 모형으로, Auto Correlation의 약자이다.\n",
    "- 자기상관성을 시계열 모형으로 구성하였으며, 예측하고자 하는 특정 변수의 과거 관측값의 선형결합으로 해당 변수의 미래값을 예측하는 모형이다.\n",
    "- 이전 자신의 관측값이 이후 자신의 관측값에 영향을 준다는 아이디어에 기반하였다.\n",
    "- yt=c+ϕ1yt−1+ϕ2yt−2+...+ϕpyt−p+εt\n",
    "- yt는 t시점의 관측값, c는 상수, ϕ는 가중치, εt는 오차항을 의미한다."
   ]
  },
  {
   "attachments": {},
   "cell_type": "markdown",
   "metadata": {},
   "source": [
    "## MA 모형\n",
    "- Moving Average 모형으로, 예측 오차를 이용하여 미래를 예측하는 모형이다.\n",
    "- yt=c+θ1εt−1+θ2εt−2+...+θqεt−q+εt"
   ]
  },
  {
   "attachments": {},
   "cell_type": "markdown",
   "metadata": {},
   "source": [
    "## ARIMA 모형\n",
    "- ARIMA(p,d,q) 모형은 d차 차분한 데이터에 위 AR(p) 모형과 MA(q) 모형을 합친 모형\n",
    "- y′t=c+ϕ1y′t−1+ϕ2y′t−2+...+ϕpy′t−p+θ1εt−1+θ2εt−2+...+θqεt−q+εt\n",
    "- 단, y′은 d차 차분을 구한 시계열, p는 자기회귀 부분의 차수, d는 차분 회수, q는 이동평균 부분의 차수이다.\n",
    "- ARIMA(AR, I, MA)\n",
    "- ARIMA(1,2,1) --> AR모델 1번하고, 2번 차분하고, MR모델을 1번 하겠다"
   ]
  },
  {
   "attachments": {},
   "cell_type": "markdown",
   "metadata": {},
   "source": [
    "## ACF(자기상관함수, AutoCorrelation Function)\n",
    "- 시차에 따른 일련의 자기상관을 의미하며, 시차가 커질수록 ACF는 0에 가까워진다.\n",
    "- 정상 시계열은 상대적으로 빠르게 0에 수렴하며, 비정상 시계열은 천천히 감소하고, 종종 큰 양의 값을 가진다.\n",
    "    - ACF가 주 느리게 감소한다 -> 정상성을 띄지 않는다\n",
    "    - ACF가 급격히 cut-off되면 -> 정상성을 띈다"
   ]
  },
  {
   "attachments": {},
   "cell_type": "markdown",
   "metadata": {},
   "source": [
    "## PACF(편자기상관함수, Partial AutoCorrelation Function)\n",
    "- timelag와 timelag 사이안의 상관관계를 구해보기\n",
    "- 시차가 다른 두 시계열 데이터 간의 순수한 상호 연관성이다.\n",
    "- PACF(k)=Corr(et,et−k)\n",
    "- et=yt−(β1yt−1+...+βk−1yt−(k−1))"
   ]
  },
  {
   "attachments": {},
   "cell_type": "markdown",
   "metadata": {},
   "source": [
    "- AR(p) : ACF 가 완만하게 감소, PACF가 갑자기 cut-off\n",
    "- MR(q) : ACF가 cut-off , PACF가 완만하게 감소\n",
    "- ARMA(p,q) : ACF, PACF가 완만하게 감소\n",
    "\n",
    "* p,q값에 주관이 들어갈 수 있다"
   ]
  },
  {
   "attachments": {},
   "cell_type": "markdown",
   "metadata": {},
   "source": [
    "### AIV,BIC조정 결정 계수 (Adjusted determination coefficient)\n",
    "\n",
    "\n",
    "- AIC (Akaike Information Criterion)  \n",
    "    - L: likly 우도(확률)\n",
    "    - p: AR에서 p,즉 변수의 개수(feature의 개수)---> 규제\n",
    "    - AIC=−2logL+2K\n",
    "    - AIC는 nlog(RSS/n) + 2p\n",
    "    - 작을 수록 좋다\n",
    "    - p의 개수(피쳐의 개수)를 구하는 지표\n",
    "\n",
    "\n",
    "- BIC (Bayesian Information Criterion) \n",
    "    - n:데이터의 개수\n",
    "    - BIC=−2logL+Klogn\n",
    "    - BIC는 nlog(RSS/n) +plog(n)\n",
    "    - 작을수록 좋다\n",
    "    - 데이터의 개수를 조절할때 쓰는 지표"
   ]
  },
  {
   "attachments": {},
   "cell_type": "markdown",
   "metadata": {},
   "source": []
  }
 ],
 "metadata": {
  "language_info": {
   "name": "python"
  },
  "orig_nbformat": 4
 },
 "nbformat": 4,
 "nbformat_minor": 2
}
