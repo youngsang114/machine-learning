{
 "cells": [
  {
   "attachments": {},
   "cell_type": "markdown",
   "metadata": {},
   "source": [
    "### 머신러닝\n",
    "1. 단순 선형 회귀\n",
    "2. 다항 회귀\n",
    "3. 다중 회귀\n",
    "4. 로지스틱 회귀\n",
    "5. SVM(소프트 백터 머신)\n",
    "6. k-최근접 이웃\n",
    "7. 의사결정나무\n",
    "8. 앙상블\n",
    "9. 나이브베이즈 분류 "
   ]
  },
  {
   "cell_type": "code",
   "execution_count": null,
   "metadata": {},
   "outputs": [],
   "source": []
  }
 ],
 "metadata": {
  "language_info": {
   "name": "python"
  },
  "orig_nbformat": 4
 },
 "nbformat": 4,
 "nbformat_minor": 2
}
