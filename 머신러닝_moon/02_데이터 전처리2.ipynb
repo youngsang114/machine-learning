{
 "cells": [
  {
   "attachments": {},
   "cell_type": "markdown",
   "metadata": {},
   "source": [
    "## 범주형 변수 처리\n",
    "- 범주형 변수는 값이 수학적 연산으로 모델을 생성하는 대부분의 분석 도구에서 직접 사용할 수가 없기 때문에 특별한 처리\n",
    "- 방법 중하나로 더미변수화를 사용\n",
    "- 더미변수는 범주형 변수에 있는 범주 각각을 컬럼으로 변경 --> 해당 범주에 속하는지를  0과 1로 채운 변수"
   ]
  },
  {
   "cell_type": "code",
   "execution_count": 32,
   "metadata": {},
   "outputs": [],
   "source": [
    "import pandas as pd\n",
    "import numpy as np\n",
    "from sklearn.datasets import load_wine"
   ]
  },
  {
   "cell_type": "code",
   "execution_count": 6,
   "metadata": {},
   "outputs": [
    {
     "data": {
      "text/html": [
       "<div>\n",
       "<style scoped>\n",
       "    .dataframe tbody tr th:only-of-type {\n",
       "        vertical-align: middle;\n",
       "    }\n",
       "\n",
       "    .dataframe tbody tr th {\n",
       "        vertical-align: top;\n",
       "    }\n",
       "\n",
       "    .dataframe thead th {\n",
       "        text-align: right;\n",
       "    }\n",
       "</style>\n",
       "<table border=\"1\" class=\"dataframe\">\n",
       "  <thead>\n",
       "    <tr style=\"text-align: right;\">\n",
       "      <th></th>\n",
       "      <th>alcohol</th>\n",
       "      <th>malic_acid</th>\n",
       "      <th>ash</th>\n",
       "      <th>alcalinity_of_ash</th>\n",
       "      <th>magnesium</th>\n",
       "      <th>total_phenols</th>\n",
       "      <th>flavanoids</th>\n",
       "      <th>nonflavanoid_phenols</th>\n",
       "      <th>proanthocyanins</th>\n",
       "      <th>color_intensity</th>\n",
       "      <th>hue</th>\n",
       "      <th>od280/od315_of_diluted_wines</th>\n",
       "      <th>proline</th>\n",
       "      <th>Class</th>\n",
       "    </tr>\n",
       "  </thead>\n",
       "  <tbody>\n",
       "    <tr>\n",
       "      <th>0</th>\n",
       "      <td>14.23</td>\n",
       "      <td>1.71</td>\n",
       "      <td>2.43</td>\n",
       "      <td>15.6</td>\n",
       "      <td>127.0</td>\n",
       "      <td>2.80</td>\n",
       "      <td>3.06</td>\n",
       "      <td>0.28</td>\n",
       "      <td>2.29</td>\n",
       "      <td>5.64</td>\n",
       "      <td>1.04</td>\n",
       "      <td>3.92</td>\n",
       "      <td>1065.0</td>\n",
       "      <td>class_0</td>\n",
       "    </tr>\n",
       "    <tr>\n",
       "      <th>1</th>\n",
       "      <td>13.20</td>\n",
       "      <td>1.78</td>\n",
       "      <td>2.14</td>\n",
       "      <td>11.2</td>\n",
       "      <td>100.0</td>\n",
       "      <td>2.65</td>\n",
       "      <td>2.76</td>\n",
       "      <td>0.26</td>\n",
       "      <td>1.28</td>\n",
       "      <td>4.38</td>\n",
       "      <td>1.05</td>\n",
       "      <td>3.40</td>\n",
       "      <td>1050.0</td>\n",
       "      <td>class_0</td>\n",
       "    </tr>\n",
       "    <tr>\n",
       "      <th>2</th>\n",
       "      <td>13.16</td>\n",
       "      <td>2.36</td>\n",
       "      <td>2.67</td>\n",
       "      <td>18.6</td>\n",
       "      <td>101.0</td>\n",
       "      <td>2.80</td>\n",
       "      <td>3.24</td>\n",
       "      <td>0.30</td>\n",
       "      <td>2.81</td>\n",
       "      <td>5.68</td>\n",
       "      <td>1.03</td>\n",
       "      <td>3.17</td>\n",
       "      <td>1185.0</td>\n",
       "      <td>class_0</td>\n",
       "    </tr>\n",
       "    <tr>\n",
       "      <th>3</th>\n",
       "      <td>14.37</td>\n",
       "      <td>1.95</td>\n",
       "      <td>2.50</td>\n",
       "      <td>16.8</td>\n",
       "      <td>113.0</td>\n",
       "      <td>3.85</td>\n",
       "      <td>3.49</td>\n",
       "      <td>0.24</td>\n",
       "      <td>2.18</td>\n",
       "      <td>7.80</td>\n",
       "      <td>0.86</td>\n",
       "      <td>3.45</td>\n",
       "      <td>1480.0</td>\n",
       "      <td>class_0</td>\n",
       "    </tr>\n",
       "    <tr>\n",
       "      <th>4</th>\n",
       "      <td>13.24</td>\n",
       "      <td>2.59</td>\n",
       "      <td>2.87</td>\n",
       "      <td>21.0</td>\n",
       "      <td>118.0</td>\n",
       "      <td>2.80</td>\n",
       "      <td>2.69</td>\n",
       "      <td>0.39</td>\n",
       "      <td>1.82</td>\n",
       "      <td>4.32</td>\n",
       "      <td>1.04</td>\n",
       "      <td>2.93</td>\n",
       "      <td>735.0</td>\n",
       "      <td>class_0</td>\n",
       "    </tr>\n",
       "  </tbody>\n",
       "</table>\n",
       "</div>"
      ],
      "text/plain": [
       "   alcohol  malic_acid   ash  alcalinity_of_ash  magnesium  total_phenols   \n",
       "0    14.23        1.71  2.43               15.6      127.0           2.80  \\\n",
       "1    13.20        1.78  2.14               11.2      100.0           2.65   \n",
       "2    13.16        2.36  2.67               18.6      101.0           2.80   \n",
       "3    14.37        1.95  2.50               16.8      113.0           3.85   \n",
       "4    13.24        2.59  2.87               21.0      118.0           2.80   \n",
       "\n",
       "   flavanoids  nonflavanoid_phenols  proanthocyanins  color_intensity   hue   \n",
       "0        3.06                  0.28             2.29             5.64  1.04  \\\n",
       "1        2.76                  0.26             1.28             4.38  1.05   \n",
       "2        3.24                  0.30             2.81             5.68  1.03   \n",
       "3        3.49                  0.24             2.18             7.80  0.86   \n",
       "4        2.69                  0.39             1.82             4.32  1.04   \n",
       "\n",
       "   od280/od315_of_diluted_wines  proline    Class  \n",
       "0                          3.92   1065.0  class_0  \n",
       "1                          3.40   1050.0  class_0  \n",
       "2                          3.17   1185.0  class_0  \n",
       "3                          3.45   1480.0  class_0  \n",
       "4                          2.93    735.0  class_0  "
      ]
     },
     "execution_count": 6,
     "metadata": {},
     "output_type": "execute_result"
    }
   ],
   "source": [
    "wine_load=load_wine()\n",
    "wine = pd.DataFrame(wine_load.data, columns=wine_load.feature_names)\n",
    "wine['Class']= wine_load.target\n",
    "wine['Class']=wine['Class'].map(\n",
    "    {\n",
    "        0 : 'class_0',\n",
    "        1 : \"class_1\",\n",
    "        2 : 'class_2'\n",
    "    }\n",
    ")\n",
    "wine.head()"
   ]
  },
  {
   "cell_type": "code",
   "execution_count": 10,
   "metadata": {},
   "outputs": [
    {
     "data": {
      "text/html": [
       "<div>\n",
       "<style scoped>\n",
       "    .dataframe tbody tr th:only-of-type {\n",
       "        vertical-align: middle;\n",
       "    }\n",
       "\n",
       "    .dataframe tbody tr th {\n",
       "        vertical-align: top;\n",
       "    }\n",
       "\n",
       "    .dataframe thead th {\n",
       "        text-align: right;\n",
       "    }\n",
       "</style>\n",
       "<table border=\"1\" class=\"dataframe\">\n",
       "  <thead>\n",
       "    <tr style=\"text-align: right;\">\n",
       "      <th></th>\n",
       "      <th>alcohol</th>\n",
       "      <th>malic_acid</th>\n",
       "      <th>ash</th>\n",
       "      <th>alcalinity_of_ash</th>\n",
       "      <th>magnesium</th>\n",
       "      <th>total_phenols</th>\n",
       "      <th>flavanoids</th>\n",
       "      <th>nonflavanoid_phenols</th>\n",
       "      <th>proanthocyanins</th>\n",
       "      <th>color_intensity</th>\n",
       "      <th>hue</th>\n",
       "      <th>od280/od315_of_diluted_wines</th>\n",
       "      <th>proline</th>\n",
       "      <th>Class_class_0</th>\n",
       "      <th>Class_class_1</th>\n",
       "      <th>Class_class_2</th>\n",
       "    </tr>\n",
       "  </thead>\n",
       "  <tbody>\n",
       "    <tr>\n",
       "      <th>0</th>\n",
       "      <td>14.23</td>\n",
       "      <td>1.71</td>\n",
       "      <td>2.43</td>\n",
       "      <td>15.6</td>\n",
       "      <td>127.0</td>\n",
       "      <td>2.80</td>\n",
       "      <td>3.06</td>\n",
       "      <td>0.28</td>\n",
       "      <td>2.29</td>\n",
       "      <td>5.64</td>\n",
       "      <td>1.04</td>\n",
       "      <td>3.92</td>\n",
       "      <td>1065.0</td>\n",
       "      <td>True</td>\n",
       "      <td>False</td>\n",
       "      <td>False</td>\n",
       "    </tr>\n",
       "    <tr>\n",
       "      <th>1</th>\n",
       "      <td>13.20</td>\n",
       "      <td>1.78</td>\n",
       "      <td>2.14</td>\n",
       "      <td>11.2</td>\n",
       "      <td>100.0</td>\n",
       "      <td>2.65</td>\n",
       "      <td>2.76</td>\n",
       "      <td>0.26</td>\n",
       "      <td>1.28</td>\n",
       "      <td>4.38</td>\n",
       "      <td>1.05</td>\n",
       "      <td>3.40</td>\n",
       "      <td>1050.0</td>\n",
       "      <td>True</td>\n",
       "      <td>False</td>\n",
       "      <td>False</td>\n",
       "    </tr>\n",
       "    <tr>\n",
       "      <th>2</th>\n",
       "      <td>13.16</td>\n",
       "      <td>2.36</td>\n",
       "      <td>2.67</td>\n",
       "      <td>18.6</td>\n",
       "      <td>101.0</td>\n",
       "      <td>2.80</td>\n",
       "      <td>3.24</td>\n",
       "      <td>0.30</td>\n",
       "      <td>2.81</td>\n",
       "      <td>5.68</td>\n",
       "      <td>1.03</td>\n",
       "      <td>3.17</td>\n",
       "      <td>1185.0</td>\n",
       "      <td>True</td>\n",
       "      <td>False</td>\n",
       "      <td>False</td>\n",
       "    </tr>\n",
       "    <tr>\n",
       "      <th>3</th>\n",
       "      <td>14.37</td>\n",
       "      <td>1.95</td>\n",
       "      <td>2.50</td>\n",
       "      <td>16.8</td>\n",
       "      <td>113.0</td>\n",
       "      <td>3.85</td>\n",
       "      <td>3.49</td>\n",
       "      <td>0.24</td>\n",
       "      <td>2.18</td>\n",
       "      <td>7.80</td>\n",
       "      <td>0.86</td>\n",
       "      <td>3.45</td>\n",
       "      <td>1480.0</td>\n",
       "      <td>True</td>\n",
       "      <td>False</td>\n",
       "      <td>False</td>\n",
       "    </tr>\n",
       "    <tr>\n",
       "      <th>4</th>\n",
       "      <td>13.24</td>\n",
       "      <td>2.59</td>\n",
       "      <td>2.87</td>\n",
       "      <td>21.0</td>\n",
       "      <td>118.0</td>\n",
       "      <td>2.80</td>\n",
       "      <td>2.69</td>\n",
       "      <td>0.39</td>\n",
       "      <td>1.82</td>\n",
       "      <td>4.32</td>\n",
       "      <td>1.04</td>\n",
       "      <td>2.93</td>\n",
       "      <td>735.0</td>\n",
       "      <td>True</td>\n",
       "      <td>False</td>\n",
       "      <td>False</td>\n",
       "    </tr>\n",
       "  </tbody>\n",
       "</table>\n",
       "</div>"
      ],
      "text/plain": [
       "   alcohol  malic_acid   ash  alcalinity_of_ash  magnesium  total_phenols   \n",
       "0    14.23        1.71  2.43               15.6      127.0           2.80  \\\n",
       "1    13.20        1.78  2.14               11.2      100.0           2.65   \n",
       "2    13.16        2.36  2.67               18.6      101.0           2.80   \n",
       "3    14.37        1.95  2.50               16.8      113.0           3.85   \n",
       "4    13.24        2.59  2.87               21.0      118.0           2.80   \n",
       "\n",
       "   flavanoids  nonflavanoid_phenols  proanthocyanins  color_intensity   hue   \n",
       "0        3.06                  0.28             2.29             5.64  1.04  \\\n",
       "1        2.76                  0.26             1.28             4.38  1.05   \n",
       "2        3.24                  0.30             2.81             5.68  1.03   \n",
       "3        3.49                  0.24             2.18             7.80  0.86   \n",
       "4        2.69                  0.39             1.82             4.32  1.04   \n",
       "\n",
       "   od280/od315_of_diluted_wines  proline  Class_class_0  Class_class_1   \n",
       "0                          3.92   1065.0           True          False  \\\n",
       "1                          3.40   1050.0           True          False   \n",
       "2                          3.17   1185.0           True          False   \n",
       "3                          3.45   1480.0           True          False   \n",
       "4                          2.93    735.0           True          False   \n",
       "\n",
       "   Class_class_2  \n",
       "0          False  \n",
       "1          False  \n",
       "2          False  \n",
       "3          False  \n",
       "4          False  "
      ]
     },
     "execution_count": 10,
     "metadata": {},
     "output_type": "execute_result"
    }
   ],
   "source": [
    "## 더미변수 생성\n",
    "## pd.get_dummies(데이터프레임, columns=['콜럼 이름']) / True=1,False=0\n",
    "wine_dummy = pd.get_dummies(wine, columns=['Class'])\n",
    "wine_dummy.head()"
   ]
  },
  {
   "cell_type": "code",
   "execution_count": 11,
   "metadata": {},
   "outputs": [
    {
     "data": {
      "text/plain": [
       "Class_class_0\n",
       "False    119\n",
       "True      59\n",
       "Name: count, dtype: int64"
      ]
     },
     "execution_count": 11,
     "metadata": {},
     "output_type": "execute_result"
    }
   ],
   "source": [
    "wine_dummy['Class_class_0'].value_counts()"
   ]
  },
  {
   "cell_type": "code",
   "execution_count": 12,
   "metadata": {},
   "outputs": [
    {
     "data": {
      "text/plain": [
       "Class_class_1\n",
       "False    107\n",
       "True      71\n",
       "Name: count, dtype: int64"
      ]
     },
     "execution_count": 12,
     "metadata": {},
     "output_type": "execute_result"
    }
   ],
   "source": [
    "wine_dummy['Class_class_1'].value_counts()"
   ]
  },
  {
   "cell_type": "code",
   "execution_count": 13,
   "metadata": {},
   "outputs": [
    {
     "data": {
      "text/plain": [
       "Class_class_2\n",
       "False    130\n",
       "True      48\n",
       "Name: count, dtype: int64"
      ]
     },
     "execution_count": 13,
     "metadata": {},
     "output_type": "execute_result"
    }
   ],
   "source": [
    "wine_dummy['Class_class_2'].value_counts()"
   ]
  },
  {
   "attachments": {},
   "cell_type": "markdown",
   "metadata": {},
   "source": [
    "## 데이터의 분할\n",
    "- 분석 모델을 학습하고 성과를 확인하기 위해여 데이터를 train과 test 세트로 나누고 독립변수와 종속변수로 분리하는 작업\n",
    "- 분석 방법에 따라서 trian과 validation, test 세트로 분리하기도 함\n",
    "-  데이터를 분리하는 적절한 비율\n",
    "    - Train : Test = 7:3\n",
    "    - Train : Validation : Test = 6 : 2 : 2 \n",
    "- sklearn의 train_test_split() 함수를 이용\n",
    "    - train_test_split(X,Y, test_size = None, random_state = None, Shuffle = True, stratify = None)\n",
    "        - X : 독립 변수 테이블\n",
    "        - Y : 종속 변수 테이블\n",
    "        - test_size : 테스트 사이즈 비율(0~1)\n",
    "        - random_state : 임의의 번호를 지정. 같은 숫자를 사용하면 같은 출력이 나온다\n",
    "        - Shuffle :  True인 경우 추출 전에 데이터를 섞음\n",
    "        - stratify : None이 아닌 경우 데이터는 지정한 변수를 기준으로 계층화 되어 해당 변수의 비율을 유지하도록 추출"
   ]
  },
  {
   "cell_type": "code",
   "execution_count": 14,
   "metadata": {},
   "outputs": [],
   "source": [
    "from sklearn.datasets import load_iris\n",
    "from sklearn.model_selection import train_test_split"
   ]
  },
  {
   "cell_type": "code",
   "execution_count": 18,
   "metadata": {},
   "outputs": [
    {
     "data": {
      "text/html": [
       "<div>\n",
       "<style scoped>\n",
       "    .dataframe tbody tr th:only-of-type {\n",
       "        vertical-align: middle;\n",
       "    }\n",
       "\n",
       "    .dataframe tbody tr th {\n",
       "        vertical-align: top;\n",
       "    }\n",
       "\n",
       "    .dataframe thead th {\n",
       "        text-align: right;\n",
       "    }\n",
       "</style>\n",
       "<table border=\"1\" class=\"dataframe\">\n",
       "  <thead>\n",
       "    <tr style=\"text-align: right;\">\n",
       "      <th></th>\n",
       "      <th>sepal length (cm)</th>\n",
       "      <th>sepal width (cm)</th>\n",
       "      <th>petal length (cm)</th>\n",
       "      <th>petal width (cm)</th>\n",
       "      <th>Class</th>\n",
       "    </tr>\n",
       "  </thead>\n",
       "  <tbody>\n",
       "    <tr>\n",
       "      <th>0</th>\n",
       "      <td>5.1</td>\n",
       "      <td>3.5</td>\n",
       "      <td>1.4</td>\n",
       "      <td>0.2</td>\n",
       "      <td>Setosa</td>\n",
       "    </tr>\n",
       "    <tr>\n",
       "      <th>1</th>\n",
       "      <td>4.9</td>\n",
       "      <td>3.0</td>\n",
       "      <td>1.4</td>\n",
       "      <td>0.2</td>\n",
       "      <td>Setosa</td>\n",
       "    </tr>\n",
       "    <tr>\n",
       "      <th>2</th>\n",
       "      <td>4.7</td>\n",
       "      <td>3.2</td>\n",
       "      <td>1.3</td>\n",
       "      <td>0.2</td>\n",
       "      <td>Setosa</td>\n",
       "    </tr>\n",
       "    <tr>\n",
       "      <th>3</th>\n",
       "      <td>4.6</td>\n",
       "      <td>3.1</td>\n",
       "      <td>1.5</td>\n",
       "      <td>0.2</td>\n",
       "      <td>Setosa</td>\n",
       "    </tr>\n",
       "    <tr>\n",
       "      <th>4</th>\n",
       "      <td>5.0</td>\n",
       "      <td>3.6</td>\n",
       "      <td>1.4</td>\n",
       "      <td>0.2</td>\n",
       "      <td>Setosa</td>\n",
       "    </tr>\n",
       "  </tbody>\n",
       "</table>\n",
       "</div>"
      ],
      "text/plain": [
       "   sepal length (cm)  sepal width (cm)  petal length (cm)  petal width (cm)   \n",
       "0                5.1               3.5                1.4               0.2  \\\n",
       "1                4.9               3.0                1.4               0.2   \n",
       "2                4.7               3.2                1.3               0.2   \n",
       "3                4.6               3.1                1.5               0.2   \n",
       "4                5.0               3.6                1.4               0.2   \n",
       "\n",
       "    Class  \n",
       "0  Setosa  \n",
       "1  Setosa  \n",
       "2  Setosa  \n",
       "3  Setosa  \n",
       "4  Setosa  "
      ]
     },
     "execution_count": 18,
     "metadata": {},
     "output_type": "execute_result"
    }
   ],
   "source": [
    "iris_load=load_iris()\n",
    "iris =pd.DataFrame(iris_load.data, columns=iris_load.feature_names)\n",
    "iris['Class']= iris_load.target\n",
    "iris['Class']=iris['Class'].map(\n",
    "    {\n",
    "        0: 'Setosa',\n",
    "        1: 'Versicolour',\n",
    "        2: 'Virginaca'\n",
    "    }\n",
    ")\n",
    "iris.head()"
   ]
  },
  {
   "cell_type": "code",
   "execution_count": 45,
   "metadata": {},
   "outputs": [],
   "source": [
    "X_train,X_test,y_train,y_test= train_test_split(\n",
    "    iris.drop('Class',axis=1),\n",
    "    iris['Class'],\n",
    "    test_size=0.3\n",
    ")"
   ]
  },
  {
   "cell_type": "code",
   "execution_count": 38,
   "metadata": {},
   "outputs": [
    {
     "name": "stdout",
     "output_type": "stream",
     "text": [
      "X_train: (105, 4) X_test: (45, 4)\n",
      "y_train: (105,) y_test: (45,)\n"
     ]
    }
   ],
   "source": [
    "print(\"X_train:\",X_train.shape,'X_test:',X_test.shape)\n",
    "print(\"y_train:\",y_train.shape,'y_test:',y_test.shape)"
   ]
  },
  {
   "attachments": {},
   "cell_type": "markdown",
   "metadata": {},
   "source": [
    "- stratify의 속성을 지정하지 않은 경우에는 임의 추출로 인하여 Class 컬럼의 범주의 개수의 비율이 원본 데이터와 차이가 존재\n",
    "-  무작위로 임의 추출의 결과가 원본을 충분히 반영하지 못하는 경우에는 분석 성능에 악영향을 미칠 수 있다.\n",
    "- 분류 문제에서는 stratify를 이용하자"
   ]
  },
  {
   "cell_type": "code",
   "execution_count": 39,
   "metadata": {},
   "outputs": [
    {
     "data": {
      "text/plain": [
       "Class\n",
       "Setosa         50\n",
       "Versicolour    50\n",
       "Virginaca      50\n",
       "Name: count, dtype: int64"
      ]
     },
     "execution_count": 39,
     "metadata": {},
     "output_type": "execute_result"
    }
   ],
   "source": [
    "iris['Class'].value_counts()"
   ]
  },
  {
   "cell_type": "code",
   "execution_count": 40,
   "metadata": {},
   "outputs": [
    {
     "data": {
      "text/plain": [
       "Class\n",
       "Versicolour    36\n",
       "Setosa         35\n",
       "Virginaca      34\n",
       "Name: count, dtype: int64"
      ]
     },
     "execution_count": 40,
     "metadata": {},
     "output_type": "execute_result"
    }
   ],
   "source": [
    "y_train.value_counts()"
   ]
  },
  {
   "cell_type": "code",
   "execution_count": 41,
   "metadata": {},
   "outputs": [],
   "source": [
    "X_train,X_test,y_train,y_test=train_test_split(\n",
    "    iris.drop('Class',axis=1),\n",
    "    iris['Class'],\n",
    "    test_size=0.3,\n",
    "    stratify=iris['Class']\n",
    ")"
   ]
  },
  {
   "cell_type": "code",
   "execution_count": 42,
   "metadata": {},
   "outputs": [
    {
     "name": "stdout",
     "output_type": "stream",
     "text": [
      "X_train: (105, 4) X_test: (45, 4)\n",
      "y_train: (105,) y_test: (45,)\n"
     ]
    }
   ],
   "source": [
    "print(\"X_train:\",X_train.shape,'X_test:',X_test.shape)\n",
    "print(\"y_train:\",y_train.shape,'y_test:',y_test.shape)"
   ]
  },
  {
   "cell_type": "code",
   "execution_count": 43,
   "metadata": {},
   "outputs": [
    {
     "data": {
      "text/plain": [
       "Class\n",
       "Virginaca      35\n",
       "Versicolour    35\n",
       "Setosa         35\n",
       "Name: count, dtype: int64"
      ]
     },
     "execution_count": 43,
     "metadata": {},
     "output_type": "execute_result"
    }
   ],
   "source": [
    "y_train.value_counts()"
   ]
  },
  {
   "attachments": {},
   "cell_type": "markdown",
   "metadata": {},
   "source": [
    "## 데이터 스케일링\n",
    "- 데부분의 분석 알고리즘은 컬럼 간 데이터의 범위가 크게 차이나는 경우에는 잘 동작하지 않는다.\n",
    "- 값의 밤위가 작은 컬럼에 비해서 값의 범위가 큰 컬럼이 타겟 변수를 예측하는데 큰 영향을 준다고 판단\n",
    "- 스케일링 작업은 모든 컬럼의 값의 범위를 같게 만들어주는 작업\n",
    "- 데이터 스케일링 순서\n",
    "    - 데이터 스케일링의 주의할 점은 train데이터와 test데이터를 같은 scaler 객체로 스케일링 해야한다.\n",
    "    1. Scler 선택 및 import\n",
    "    2. Scaler 객체 생성\n",
    "    3. train 데이터 분포 저장\n",
    "    4. train 데이터 스케일링\n",
    "    5. test 데이터 스케일링\n",
    "    6. 원래 스케일로 변환"
   ]
  },
  {
   "attachments": {},
   "cell_type": "markdown",
   "metadata": {},
   "source": [
    "### Standard Scaler\n",
    "- 표준화 방식으로 기본 스케일링 방식으로 컬럼들은 평균이 0, 분산이 1인 정규분포로 스케일링\n",
    "- 최솟값과 최댓값의 크기를 제한하지 않아 이상치에 민감하기 때문에, 이상치에 대한 확인 및 정제를 한 후에 사용\n",
    "- 회귀보다는 분류분석에서 유용"
   ]
  },
  {
   "cell_type": "code",
   "execution_count": 46,
   "metadata": {},
   "outputs": [
    {
     "name": "stdout",
     "output_type": "stream",
     "text": [
      "\t\t(min,max) (mean,std)\n",
      "Train_scaled (-2.52,3.13) (-0.00,1.00)\n",
      "Test_scaled (-1.88,2.66) (-0.14,1.07)\n"
     ]
    }
   ],
   "source": [
    "## Scaler 선택 및 import\n",
    "from sklearn.preprocessing import StandardScaler\n",
    "\n",
    "## Scaler 객체 선택 \n",
    "StdScaler = StandardScaler()\n",
    "\n",
    "## train 데이터 분포 저장\n",
    "StdScaler.fit(X_train)\n",
    "\n",
    "## train 데이터 스케일링\n",
    "X_train_sc = StdScaler.transform(X_train)\n",
    "\n",
    "## test 데이터 스케일링\n",
    "X_test_sc = StdScaler.transform(X_test)\n",
    "\n",
    "print(\"\\t\\t(min,max) (mean,std)\")\n",
    "print(\"Train_scaled (%.2f,%.2f) (%.2f,%.2f)\" %(X_train_sc.min(),X_train_sc.max(),X_train_sc.mean(),X_train_sc.std()))\n",
    "print(\"Test_scaled (%.2f,%.2f) (%.2f,%.2f)\" %(X_test_sc.min(),X_test_sc.max(),X_test_sc.mean(),X_test_sc.std()))\n"
   ]
  },
  {
   "attachments": {},
   "cell_type": "markdown",
   "metadata": {},
   "source": [
    "### Min-Max scaler\n",
    "- 정규화 방식으로 컬럼들을 0과 1사이의 값으로 스케일링 하는 방식\n",
    "- 최솟값은 0, 최댓값은 1\n",
    "- 이상치에 매우 민감하므로 이상치를 미리 확인 및 정제\n",
    "- 분류보다는 회귀에서 유용"
   ]
  },
  {
   "cell_type": "code",
   "execution_count": 47,
   "metadata": {},
   "outputs": [
    {
     "name": "stdout",
     "output_type": "stream",
     "text": [
      "\t\t(min,max) (mean,std)\n",
      "Train_scaled (0.00,1.00) (0.47,0.26)\n",
      "Test_scaled (0.00,1.05) (0.43,0.28)\n"
     ]
    }
   ],
   "source": [
    "from sklearn.preprocessing import MinMaxScaler\n",
    "\n",
    "MmScaler=MinMaxScaler()\n",
    "\n",
    "MmScaler.fit(X_train)\n",
    "X_train_sc =MmScaler.transform(X_train)\n",
    "X_test_sc=MmScaler.transform(X_test)\n",
    "\n",
    "print(\"\\t\\t(min,max) (mean,std)\")\n",
    "print(\"Train_scaled (%.2f,%.2f) (%.2f,%.2f)\" %(X_train_sc.min(),X_train_sc.max(),X_train_sc.mean(),X_train_sc.std()))\n",
    "print(\"Test_scaled (%.2f,%.2f) (%.2f,%.2f)\" %(X_test_sc.min(),X_test_sc.max(),X_test_sc.mean(),X_test_sc.std()))\n"
   ]
  },
  {
   "attachments": {},
   "cell_type": "markdown",
   "metadata": {},
   "source": [
    "### Max Abs scaler\n",
    "- 최대 절댓값과 0이 각각 1,0이 되도록 스케일링 하는 정규화 방식으로 모든 값은 -1과 1 사이로 표현\n",
    "- 스케일링의 데이터가 양수라면 Min-Max scaler와 동일\n",
    "- 이상치에 대해 매우 민감 정제 작업 필요\n",
    "- 분류보다는 회귀에서 유용"
   ]
  },
  {
   "cell_type": "code",
   "execution_count": 48,
   "metadata": {},
   "outputs": [
    {
     "name": "stdout",
     "output_type": "stream",
     "text": [
      "\t\t(min,max) (mean,std)\n",
      "Train_scaled (0.04,1.00) (0.63,0.23)\n",
      "Test_scaled (0.04,1.05) (0.60,0.25)\n"
     ]
    }
   ],
   "source": [
    "from sklearn.preprocessing import MaxAbsScaler\n",
    "\n",
    "MaScaler=MaxAbsScaler()\n",
    "\n",
    "MaScaler.fit(X_train)\n",
    "\n",
    "X_train_sc=MaScaler.transform(X_train)\n",
    "X_test_sc=MaScaler.transform(X_test)\n",
    "\n",
    "print(\"\\t\\t(min,max) (mean,std)\")\n",
    "print(\"Train_scaled (%.2f,%.2f) (%.2f,%.2f)\" %(X_train_sc.min(),X_train_sc.max(),X_train_sc.mean(),X_train_sc.std()))\n",
    "print(\"Test_scaled (%.2f,%.2f) (%.2f,%.2f)\" %(X_test_sc.min(),X_test_sc.max(),X_test_sc.mean(),X_test_sc.std()))"
   ]
  },
  {
   "attachments": {},
   "cell_type": "markdown",
   "metadata": {},
   "source": [
    "## Robust Scaler\n",
    "- 평균과 분산 대신 중앙값과 사분위 값을 활용하는 방식\n",
    "- 중앙값은 0으로 설정하고 IQR을 사용하여 이상치의 영향을 최소화\n",
    "- quantile_range 파라미터(기본값 [0.25,0.75])를 조정하여 더 넓거나 좁은 범위의 값을 이상치로 설정하여 정제할 수 있다."
   ]
  },
  {
   "cell_type": "code",
   "execution_count": 50,
   "metadata": {},
   "outputs": [
    {
     "name": "stdout",
     "output_type": "stream",
     "text": [
      "\t\t(min,max) (mean,std)\n",
      "Train_scaled (-1.67,2.33) (-0.05,0.60)\n",
      "Test_scaled (-1.17,2.00) (-0.13,0.64)\n"
     ]
    }
   ],
   "source": [
    "from sklearn.preprocessing import RobustScaler\n",
    "\n",
    "RuSclaer= RobustScaler()\n",
    "\n",
    "RuSclaer.fit(X_train)\n",
    "\n",
    "X_train_sc = RuSclaer.transform(X_train)\n",
    "X_test_sc =RuSclaer.transform(X_test)\n",
    "\n",
    "print(\"\\t\\t(min,max) (mean,std)\")\n",
    "print(\"Train_scaled (%.2f,%.2f) (%.2f,%.2f)\" %(X_train_sc.min(),X_train_sc.max(),X_train_sc.mean(),X_train_sc.std()))\n",
    "print(\"Test_scaled (%.2f,%.2f) (%.2f,%.2f)\" %(X_test_sc.min(),X_test_sc.max(),X_test_sc.mean(),X_test_sc.std()))"
   ]
  },
  {
   "attachments": {},
   "cell_type": "markdown",
   "metadata": {},
   "source": [
    "## 원본 스케일로 변경\n",
    "- 스케일링한 데이터를 원본 스케일로 변경"
   ]
  },
  {
   "cell_type": "code",
   "execution_count": 51,
   "metadata": {},
   "outputs": [
    {
     "data": {
      "text/html": [
       "<div>\n",
       "<style scoped>\n",
       "    .dataframe tbody tr th:only-of-type {\n",
       "        vertical-align: middle;\n",
       "    }\n",
       "\n",
       "    .dataframe tbody tr th {\n",
       "        vertical-align: top;\n",
       "    }\n",
       "\n",
       "    .dataframe thead th {\n",
       "        text-align: right;\n",
       "    }\n",
       "</style>\n",
       "<table border=\"1\" class=\"dataframe\">\n",
       "  <thead>\n",
       "    <tr style=\"text-align: right;\">\n",
       "      <th></th>\n",
       "      <th>0</th>\n",
       "      <th>1</th>\n",
       "      <th>2</th>\n",
       "      <th>3</th>\n",
       "    </tr>\n",
       "  </thead>\n",
       "  <tbody>\n",
       "    <tr>\n",
       "      <th>0</th>\n",
       "      <td>-0.307692</td>\n",
       "      <td>0.833333</td>\n",
       "      <td>-0.914286</td>\n",
       "      <td>-0.800000</td>\n",
       "    </tr>\n",
       "    <tr>\n",
       "      <th>1</th>\n",
       "      <td>-0.461538</td>\n",
       "      <td>1.166667</td>\n",
       "      <td>-0.857143</td>\n",
       "      <td>-0.800000</td>\n",
       "    </tr>\n",
       "    <tr>\n",
       "      <th>2</th>\n",
       "      <td>-0.307692</td>\n",
       "      <td>-1.000000</td>\n",
       "      <td>-0.200000</td>\n",
       "      <td>-0.200000</td>\n",
       "    </tr>\n",
       "    <tr>\n",
       "      <th>3</th>\n",
       "      <td>-0.307692</td>\n",
       "      <td>-1.000000</td>\n",
       "      <td>-0.228571</td>\n",
       "      <td>-0.266667</td>\n",
       "    </tr>\n",
       "    <tr>\n",
       "      <th>4</th>\n",
       "      <td>-0.692308</td>\n",
       "      <td>0.833333</td>\n",
       "      <td>-0.828571</td>\n",
       "      <td>-0.533333</td>\n",
       "    </tr>\n",
       "  </tbody>\n",
       "</table>\n",
       "</div>"
      ],
      "text/plain": [
       "          0         1         2         3\n",
       "0 -0.307692  0.833333 -0.914286 -0.800000\n",
       "1 -0.461538  1.166667 -0.857143 -0.800000\n",
       "2 -0.307692 -1.000000 -0.200000 -0.200000\n",
       "3 -0.307692 -1.000000 -0.228571 -0.266667\n",
       "4 -0.692308  0.833333 -0.828571 -0.533333"
      ]
     },
     "execution_count": 51,
     "metadata": {},
     "output_type": "execute_result"
    }
   ],
   "source": [
    "pd.DataFrame(X_test_sc).head()"
   ]
  },
  {
   "cell_type": "code",
   "execution_count": 53,
   "metadata": {},
   "outputs": [
    {
     "data": {
      "text/html": [
       "<div>\n",
       "<style scoped>\n",
       "    .dataframe tbody tr th:only-of-type {\n",
       "        vertical-align: middle;\n",
       "    }\n",
       "\n",
       "    .dataframe tbody tr th {\n",
       "        vertical-align: top;\n",
       "    }\n",
       "\n",
       "    .dataframe thead th {\n",
       "        text-align: right;\n",
       "    }\n",
       "</style>\n",
       "<table border=\"1\" class=\"dataframe\">\n",
       "  <thead>\n",
       "    <tr style=\"text-align: right;\">\n",
       "      <th></th>\n",
       "      <th>0</th>\n",
       "      <th>1</th>\n",
       "      <th>2</th>\n",
       "      <th>3</th>\n",
       "    </tr>\n",
       "  </thead>\n",
       "  <tbody>\n",
       "    <tr>\n",
       "      <th>0</th>\n",
       "      <td>5.1</td>\n",
       "      <td>3.4</td>\n",
       "      <td>1.5</td>\n",
       "      <td>0.2</td>\n",
       "    </tr>\n",
       "    <tr>\n",
       "      <th>1</th>\n",
       "      <td>6.5</td>\n",
       "      <td>3.2</td>\n",
       "      <td>5.1</td>\n",
       "      <td>2.0</td>\n",
       "    </tr>\n",
       "    <tr>\n",
       "      <th>2</th>\n",
       "      <td>6.7</td>\n",
       "      <td>3.1</td>\n",
       "      <td>4.7</td>\n",
       "      <td>1.5</td>\n",
       "    </tr>\n",
       "    <tr>\n",
       "      <th>3</th>\n",
       "      <td>6.7</td>\n",
       "      <td>3.3</td>\n",
       "      <td>5.7</td>\n",
       "      <td>2.5</td>\n",
       "    </tr>\n",
       "    <tr>\n",
       "      <th>4</th>\n",
       "      <td>6.2</td>\n",
       "      <td>2.8</td>\n",
       "      <td>4.8</td>\n",
       "      <td>1.8</td>\n",
       "    </tr>\n",
       "  </tbody>\n",
       "</table>\n",
       "</div>"
      ],
      "text/plain": [
       "     0    1    2    3\n",
       "0  5.1  3.4  1.5  0.2\n",
       "1  6.5  3.2  5.1  2.0\n",
       "2  6.7  3.1  4.7  1.5\n",
       "3  6.7  3.3  5.7  2.5\n",
       "4  6.2  2.8  4.8  1.8"
      ]
     },
     "execution_count": 53,
     "metadata": {},
     "output_type": "execute_result"
    }
   ],
   "source": [
    "X_original =RuSclaer.inverse_transform(X_train_sc)\n",
    "pd.DataFrame(X_original).head()"
   ]
  }
 ],
 "metadata": {
  "kernelspec": {
   "display_name": "Python 3",
   "language": "python",
   "name": "python3"
  },
  "language_info": {
   "codemirror_mode": {
    "name": "ipython",
    "version": 3
   },
   "file_extension": ".py",
   "mimetype": "text/x-python",
   "name": "python",
   "nbconvert_exporter": "python",
   "pygments_lexer": "ipython3",
   "version": "3.10.9"
  },
  "orig_nbformat": 4
 },
 "nbformat": 4,
 "nbformat_minor": 2
}
