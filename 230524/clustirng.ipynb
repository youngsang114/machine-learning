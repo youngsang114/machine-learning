{
 "cells": [
  {
   "attachments": {},
   "cell_type": "markdown",
   "metadata": {},
   "source": [
    "## 차원의 저주\n",
    "- 차원이 커질수록, 데이터 포인트들간 거리가 크게 늘어남\n",
    "- 피쳐가 많아질 수록 개별 피쳐간에 상관관계가 높아 선형 회귀와 같은 모델에서는 다중 공산성 문제로 모델의 예측 성능이 저하됨\n",
    "- 차원을 축소시켰다고, 성능이 오르는 것은 아니다 !!!\n",
    "- 여러개의 다중공선성이 있는 컬럼들을 하나의 컬럼으로 차원을 바꾼다 --> 다중 공선성 문제를 해결할 수 있다.\n",
    "\n",
    "* 원본 데이터의 정보를 최대한으로 유지한채 차원 축소를 수행해야됨 --> 데이터의 분산이 큰 축을 정해서 차원 축소를 진행"
   ]
  },
  {
   "cell_type": "code",
   "execution_count": 1,
   "metadata": {},
   "outputs": [
    {
     "data": {
      "text/plain": [
       "16384"
      ]
     },
     "execution_count": 1,
     "metadata": {},
     "output_type": "execute_result"
    }
   ],
   "source": []
  },
  {
   "cell_type": "code",
   "execution_count": null,
   "metadata": {},
   "outputs": [],
   "source": []
  }
 ],
 "metadata": {
  "kernelspec": {
   "display_name": "Python 3",
   "language": "python",
   "name": "python3"
  },
  "language_info": {
   "codemirror_mode": {
    "name": "ipython",
    "version": 3
   },
   "file_extension": ".py",
   "mimetype": "text/x-python",
   "name": "python",
   "nbconvert_exporter": "python",
   "pygments_lexer": "ipython3",
   "version": "3.10.9"
  },
  "orig_nbformat": 4
 },
 "nbformat": 4,
 "nbformat_minor": 2
}
