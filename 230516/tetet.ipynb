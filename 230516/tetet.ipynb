{
 "cells": [
  {
   "attachments": {},
   "cell_type": "markdown",
   "metadata": {},
   "source": [
    "- 규제(Legulation)\n",
    "    - L1 규제: +aㅣwㅣ\n",
    "        - feature를 제거 할 수 있다\n",
    "        - Lasso\n",
    "    - L2 규제: +aㅣwㅣ^2\n",
    "        - feature을 제거 할 수 없고, 제약을 줄 수 있다\n",
    "        - Ridge"
   ]
  },
  {
   "attachments": {},
   "cell_type": "markdown",
   "metadata": {},
   "source": []
  }
 ],
 "metadata": {
  "language_info": {
   "name": "python"
  },
  "orig_nbformat": 4
 },
 "nbformat": 4,
 "nbformat_minor": 2
}
