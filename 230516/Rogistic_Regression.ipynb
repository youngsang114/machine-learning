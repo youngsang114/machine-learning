{
 "cells": [
  {
   "attachments": {},
   "cell_type": "markdown",
   "metadata": {},
   "source": [
    "## 로지스틱 함수(Logistic Regression)"
   ]
  },
  {
   "attachments": {},
   "cell_type": "markdown",
   "metadata": {},
   "source": [
    "#### odds = 일어나지 않을 확률에서의 일어날 확률\n",
    "    - 커질 수록, 일어날 확률이 높다\n",
    "    - ln(p/1-p) = w1x + x0\n",
    "    - p/1-p = e^(w1x+x0)\n",
    "    - p=1/1 + e^(-1*(w1x+x0))\n",
    "    - 시그 모이드함수에다가 회귀 값을 대입해준다면, 그에 맞는 확률값을 구할 수 있다\n",
    "    - 1/(1+e^-x) :  시그모이드 함수\n",
    "    - C는 1/alpha이므로 작을 수록 규제가 크다 (SNM에서는 C값이 클수록 큐제가 크다)"
   ]
  },
  {
   "attachments": {},
   "cell_type": "markdown",
   "metadata": {},
   "source": [
    "## sklearn.linear_model.LogisticRegression\n",
    "* class sklearn.linear_model.LogisticRegression(penalty='l2', *, dual=False, tol=0.0001, C=1.0, fit_intercept=True, intercept_scaling=1, class_weight=None, random_state=None, solver='lbfgs', max_iter=100, multi_class='auto', verbose=0, warm_start=False, n_jobs=None, l1_ratio=None)\n",
    "* prarmeters\n",
    "    - penalty :{‘l1’, ‘l2’, ‘elasticnet’, None}, default=’l2’\n",
    "    - C :Inverse of regularization strength , float, default=1.0\n",
    "    - max_iter : 최대 몇번 학습 할건지(에포크), int, default=100\n",
    "    - multi_class{‘auto’, ‘ovr’, ‘multinomial’}, default=’auto’\n",
    "    'auto' : 알아서 계산해준다\n",
    "    ‘ovr’: a binary problem is fit for each label.\n",
    "    ‘multinomial’: the loss minimised is the multinomial loss fit across the entire probability distribution, even when the data is binary. ‘multinomial’ is unavailable when solver=’liblinear’. ‘auto’ selects ‘ovr’ if the data is binary, or if solver=’liblinear’, and otherwise selects ‘multinomial’.\n",
    "    - solver : {‘lbfgs’, ‘liblinear’, ‘newton-cg’, ‘newton-cholesky’, ‘sag’, ‘saga’}, default=’lbfgs’\n",
    "        - For small datasets, ‘liblinear’ is a good choice\n",
    "        - ‘sag’ and ‘saga’ are faster for large ones;\n",
    "        - \n",
    "* multi- classifier : 레이블이 여러개 값 일때\n",
    "    - 시그모이드에 대입하는 것이 아니라, softmax function에 대입해야 한다\n",
    "    - 엔트로피를 카테고리컬 엔트로피를 구해준다(one-hot encoding)\n"
   ]
  },
  {
   "cell_type": "code",
   "execution_count": 9,
   "metadata": {},
   "outputs": [],
   "source": [
    "# warning메시지 무시\n",
    "import warnings\n",
    "warnings.filterwarnings('ignore')\n"
   ]
  },
  {
   "cell_type": "code",
   "execution_count": 3,
   "metadata": {},
   "outputs": [],
   "source": [
    "import pandas as pd\n",
    "import matplotlib.pyplot as plt\n",
    "%matplotlib inline\n",
    "\n",
    "from sklearn.datasets import load_breast_cancer\n",
    "from sklearn.model_selection import train_test_split\n",
    "from sklearn.preprocessing import StandardScaler\n",
    "\n",
    "cancer= load_breast_cancer()\n",
    "\n",
    "scaler= StandardScaler()\n",
    "data_scaled= scaler.fit_transform(cancer.data)\n",
    "\n",
    "X_train,X_test,y_train,y_test = train_test_split(data_scaled,cancer.target,test_size=0.3,random_state=0 )"
   ]
  },
  {
   "cell_type": "code",
   "execution_count": 5,
   "metadata": {},
   "outputs": [
    {
     "name": "stdout",
     "output_type": "stream",
     "text": [
      "accuracy:0.977\n",
      "roc_auc:0.972\n"
     ]
    }
   ],
   "source": [
    "from sklearn.metrics import accuracy_score, roc_auc_score\n",
    "from sklearn.linear_model import LogisticRegression\n",
    "\n",
    "lr_clf= LogisticRegression()\n",
    "lr_clf.fit(X_train,y_train)\n",
    "lr_pred= lr_clf.predict(X_test)\n",
    "\n",
    "print(f'accuracy:{accuracy_score(y_test,lr_pred):.3f}')\n",
    "print(f'roc_auc:{roc_auc_score(y_test,lr_pred):.3f}')"
   ]
  },
  {
   "cell_type": "code",
   "execution_count": 10,
   "metadata": {},
   "outputs": [
    {
     "name": "stdout",
     "output_type": "stream",
     "text": [
      "최적 하이퍼 파라미터:{'C': 1, 'penalty': 'l2'}, 최적 평균 정확도:0.975\n"
     ]
    }
   ],
   "source": [
    "from sklearn.model_selection import GridSearchCV\n",
    "params={'penalty':['l2','l1'],\n",
    "        'C':[0.01,0.1,1,5,10]}\n",
    "grid_clf = GridSearchCV(lr_clf, param_grid=params, scoring='accuracy',cv=3)\n",
    "grid_clf.fit(data_scaled,cancer.target)\n",
    "\n",
    "print('최적 하이퍼 파라미터:{0}, 최적 평균 정확도:{1:.3f}'.format(grid_clf.best_params_,grid_clf.best_score_))"
   ]
  },
  {
   "cell_type": "code",
   "execution_count": 28,
   "metadata": {},
   "outputs": [
    {
     "data": {
      "text/html": [
       "<div>\n",
       "<style scoped>\n",
       "    .dataframe tbody tr th:only-of-type {\n",
       "        vertical-align: middle;\n",
       "    }\n",
       "\n",
       "    .dataframe tbody tr th {\n",
       "        vertical-align: top;\n",
       "    }\n",
       "\n",
       "    .dataframe thead th {\n",
       "        text-align: right;\n",
       "    }\n",
       "</style>\n",
       "<table border=\"1\" class=\"dataframe\">\n",
       "  <thead>\n",
       "    <tr style=\"text-align: right;\">\n",
       "      <th></th>\n",
       "      <th>0</th>\n",
       "      <th>1</th>\n",
       "      <th>2</th>\n",
       "    </tr>\n",
       "  </thead>\n",
       "  <tbody>\n",
       "    <tr>\n",
       "      <th>count</th>\n",
       "      <td>45.000000</td>\n",
       "      <td>45.000000</td>\n",
       "      <td>4.500000e+01</td>\n",
       "    </tr>\n",
       "    <tr>\n",
       "      <th>mean</th>\n",
       "      <td>0.358300</td>\n",
       "      <td>0.357943</td>\n",
       "      <td>2.837570e-01</td>\n",
       "    </tr>\n",
       "    <tr>\n",
       "      <th>std</th>\n",
       "      <td>0.464811</td>\n",
       "      <td>0.363490</td>\n",
       "      <td>3.469014e-01</td>\n",
       "    </tr>\n",
       "    <tr>\n",
       "      <th>min</th>\n",
       "      <td>0.000026</td>\n",
       "      <td>0.004243</td>\n",
       "      <td>7.354107e-08</td>\n",
       "    </tr>\n",
       "    <tr>\n",
       "      <th>25%</th>\n",
       "      <td>0.002583</td>\n",
       "      <td>0.026120</td>\n",
       "      <td>1.614249e-06</td>\n",
       "    </tr>\n",
       "    <tr>\n",
       "      <th>50%</th>\n",
       "      <td>0.024095</td>\n",
       "      <td>0.161514</td>\n",
       "      <td>1.207245e-01</td>\n",
       "    </tr>\n",
       "    <tr>\n",
       "      <th>75%</th>\n",
       "      <td>0.968179</td>\n",
       "      <td>0.730649</td>\n",
       "      <td>5.657152e-01</td>\n",
       "    </tr>\n",
       "    <tr>\n",
       "      <th>max</th>\n",
       "      <td>0.995757</td>\n",
       "      <td>0.950313</td>\n",
       "      <td>9.899404e-01</td>\n",
       "    </tr>\n",
       "  </tbody>\n",
       "</table>\n",
       "</div>"
      ],
      "text/plain": [
       "               0          1             2\n",
       "count  45.000000  45.000000  4.500000e+01\n",
       "mean    0.358300   0.357943  2.837570e-01\n",
       "std     0.464811   0.363490  3.469014e-01\n",
       "min     0.000026   0.004243  7.354107e-08\n",
       "25%     0.002583   0.026120  1.614249e-06\n",
       "50%     0.024095   0.161514  1.207245e-01\n",
       "75%     0.968179   0.730649  5.657152e-01\n",
       "max     0.995757   0.950313  9.899404e-01"
      ]
     },
     "execution_count": 28,
     "metadata": {},
     "output_type": "execute_result"
    }
   ],
   "source": [
    "from sklearn.datasets import load_iris\n",
    "iris=load_iris()\n",
    "scaler= StandardScaler()\n",
    "iris_scaled= scaler.fit_transform(iris.data)\n",
    "\n",
    "X_train,X_test,y_train,y_test = train_test_split(iris_scaled,iris.target,test_size=0.3,random_state=0 )\n",
    "\n",
    "lg_clf= LogisticRegression()\n",
    "lg_clf.fit(X_train,y_train)\n",
    "lg_pred= lg_clf.predict_proba(X_test)\n",
    "pd.DataFrame(lg_pred).describe()\n",
    "\n"
   ]
  },
  {
   "cell_type": "code",
   "execution_count": 26,
   "metadata": {},
   "outputs": [
    {
     "data": {
      "text/html": [
       "<div>\n",
       "<style scoped>\n",
       "    .dataframe tbody tr th:only-of-type {\n",
       "        vertical-align: middle;\n",
       "    }\n",
       "\n",
       "    .dataframe tbody tr th {\n",
       "        vertical-align: top;\n",
       "    }\n",
       "\n",
       "    .dataframe thead th {\n",
       "        text-align: right;\n",
       "    }\n",
       "</style>\n",
       "<table border=\"1\" class=\"dataframe\">\n",
       "  <thead>\n",
       "    <tr style=\"text-align: right;\">\n",
       "      <th></th>\n",
       "      <th>0</th>\n",
       "      <th>1</th>\n",
       "      <th>2</th>\n",
       "    </tr>\n",
       "  </thead>\n",
       "  <tbody>\n",
       "    <tr>\n",
       "      <th>count</th>\n",
       "      <td>45.000000</td>\n",
       "      <td>45.000000</td>\n",
       "      <td>45.000000</td>\n",
       "    </tr>\n",
       "    <tr>\n",
       "      <th>mean</th>\n",
       "      <td>0.335794</td>\n",
       "      <td>0.356153</td>\n",
       "      <td>0.308052</td>\n",
       "    </tr>\n",
       "    <tr>\n",
       "      <th>std</th>\n",
       "      <td>0.425608</td>\n",
       "      <td>0.268351</td>\n",
       "      <td>0.304600</td>\n",
       "    </tr>\n",
       "    <tr>\n",
       "      <th>min</th>\n",
       "      <td>0.000239</td>\n",
       "      <td>0.018802</td>\n",
       "      <td>0.000019</td>\n",
       "    </tr>\n",
       "    <tr>\n",
       "      <th>25%</th>\n",
       "      <td>0.005230</td>\n",
       "      <td>0.106595</td>\n",
       "      <td>0.000069</td>\n",
       "    </tr>\n",
       "    <tr>\n",
       "      <th>50%</th>\n",
       "      <td>0.043824</td>\n",
       "      <td>0.277675</td>\n",
       "      <td>0.236031</td>\n",
       "    </tr>\n",
       "    <tr>\n",
       "      <th>75%</th>\n",
       "      <td>0.881048</td>\n",
       "      <td>0.542622</td>\n",
       "      <td>0.536531</td>\n",
       "    </tr>\n",
       "    <tr>\n",
       "      <th>max</th>\n",
       "      <td>0.981176</td>\n",
       "      <td>0.917569</td>\n",
       "      <td>0.903337</td>\n",
       "    </tr>\n",
       "  </tbody>\n",
       "</table>\n",
       "</div>"
      ],
      "text/plain": [
       "               0          1          2\n",
       "count  45.000000  45.000000  45.000000\n",
       "mean    0.335794   0.356153   0.308052\n",
       "std     0.425608   0.268351   0.304600\n",
       "min     0.000239   0.018802   0.000019\n",
       "25%     0.005230   0.106595   0.000069\n",
       "50%     0.043824   0.277675   0.236031\n",
       "75%     0.881048   0.542622   0.536531\n",
       "max     0.981176   0.917569   0.903337"
      ]
     },
     "execution_count": 26,
     "metadata": {},
     "output_type": "execute_result"
    }
   ],
   "source": [
    "lg_clf= LogisticRegression(multi_class='ovr')\n",
    "lg_clf.fit(X_train,y_train)\n",
    "lg_pred= lg_clf.predict_proba(X_test)\n",
    "lg_pred= lg_clf.predict_proba(X_test)\n",
    "pd.DataFrame(lg_pred).describe()"
   ]
  }
 ],
 "metadata": {
  "kernelspec": {
   "display_name": "Python 3",
   "language": "python",
   "name": "python3"
  },
  "language_info": {
   "codemirror_mode": {
    "name": "ipython",
    "version": 3
   },
   "file_extension": ".py",
   "mimetype": "text/x-python",
   "name": "python",
   "nbconvert_exporter": "python",
   "pygments_lexer": "ipython3",
   "version": "3.10.9"
  },
  "orig_nbformat": 4
 },
 "nbformat": 4,
 "nbformat_minor": 2
}
