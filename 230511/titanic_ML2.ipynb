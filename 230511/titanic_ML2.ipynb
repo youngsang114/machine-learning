{
 "cells": [
  {
   "attachments": {},
   "cell_type": "markdown",
   "metadata": {},
   "source": [
    "## 지도학습 중 분류(Classification) 성능 평가 지표\n",
    "* 성능평가 사용한거에 대한 근거가 있어야됨  --> 도메인 지식 필요"
   ]
  },
  {
   "attachments": {},
   "cell_type": "markdown",
   "metadata": {},
   "source": [
    "- 정확도(Accuracy)\n",
    "\n",
    "    - (TN + TP) / (TN + TP + FN +FP) \n",
    "\n",
    "- 오차행렬(Confusion Matrix)\n",
    "\n",
    "- 정밀도(Precision)\n",
    "\n",
    "    - 스팸 메일\n",
    "    - 긍정으로 예측한거 중에 잘 맞춘거\n",
    "    - TP / (TP + FP)\n",
    "    - Specificity(질병이 없는데 질병이 없다고 판단)\n",
    "    - 임계값이 높을 수록 정밀도가 높아진다\n",
    "\n",
    "- 재현율(Recall)---> >TPR\n",
    "\n",
    "    - 암 환자 진단\n",
    "    - 실제 긍정중에 잘 맞춘거\n",
    "    - TP / (FN+TP)\n",
    "    - Sensitivity(질병이 있는데 질병이 있다고 판단)\n",
    "    - 임계값이 낮아질 수록 재현율이 높아진다\n",
    "\n",
    "- F1 Score\n",
    "\n",
    "    - 정밀도와 재현율의 조화 평균\n",
    "    - 둘다 적절하게 중요할때\n",
    "    - 2(정밀도*재현율) / (정밀도 + 재현율) \n",
    "\n",
    "- ROC AUC"
   ]
  },
  {
   "attachments": {},
   "cell_type": "markdown",
   "metadata": {},
   "source": [
    "## sklearn.metrics.precision_score\n",
    "* sklearn.metrics.precision_score(_y_true_, _y_pred_, _*_, _labels=None_, _pos_label=1_, _average='binary'_, _sample_weight=None_, _zero_division='warn'_)\n",
    "\n",
    "## sklearn.metrics.recall_score\n",
    "* sklearn.metrics.recall_score(y_true, y_pred, *, labels=None, pos_label=1, average='binary', sample_weight=None, zero_division='warn')\n",
    "\n",
    "## sklearn.metrics.confusion_matrix\n",
    "* sklearn.metrics.confusion_matrix(y_true, y_pred, *, labels=None, sample_weight=None, normalize=None)\n",
    "\n",
    "## sklearn.metrics.f1_score\n",
    "* sklearn.metrics.f1_score(y_true, y_pred, *, labels=None, pos_label=1, average='binary', sample_weight=None, zero_division='warn')\n",
    "* F1 = 2 * (precision * recall) / (precision + recall)"
   ]
  },
  {
   "cell_type": "code",
   "execution_count": 11,
   "metadata": {},
   "outputs": [],
   "source": [
    "import warnings\n",
    "warnings.filterwarnings('ignore')"
   ]
  },
  {
   "cell_type": "code",
   "execution_count": 1,
   "metadata": {},
   "outputs": [],
   "source": [
    "import pandas as pd\n",
    "import numpy as np\n",
    "from sklearn.preprocessing import LabelEncoder\n",
    "# Null 처리 함수\n",
    "def fillna(df):\n",
    "    df['Age'].fillna(df['Age'].mean(),inplace=True)\n",
    "    df['Cabin'].fillna('N',inplace=True)\n",
    "    df['Embarked'].fillna('N',inplace=True)\n",
    "    df['Fare'].fillna(0,inplace=True)\n",
    "    return df\n",
    "# 머신러닝 알고리즘에 불필요한 속성 제거\n",
    "def drop_features(df):\n",
    "    df.drop(['PassengerId','Name','Ticket'],axis=1,inplace=True)\n",
    "    return df\n",
    "# 레이블 인코딩 수행.\n",
    "def format_features(df):\n",
    "    df['Cabin'] = df['Cabin'].str[:1]\n",
    "    features = ['Cabin','Sex','Embarked']\n",
    "    for feature in features:\n",
    "        le = LabelEncoder()\n",
    "        le = le.fit(df[feature])\n",
    "        df[feature] = le.transform(df[feature])\n",
    "    return df\n",
    "\n",
    "# 앞에서 설정한 Data Preprocessing 함수 호출\n",
    "def transform_features(df):\n",
    "    df = fillna(df)\n",
    "    df = drop_features(df)\n",
    "    df = format_features(df)\n",
    "    return df"
   ]
  },
  {
   "cell_type": "code",
   "execution_count": 21,
   "metadata": {},
   "outputs": [],
   "source": [
    "from sklearn.metrics import accuracy_score , precision_score , recall_score , confusion_matrix,f1_score\n",
    "\n",
    "def get_clf_eval(y_test,pred):\n",
    "    confusion =confusion_matrix(y_test, pred)\n",
    "    accuracy = accuracy_score(y_test,pred)\n",
    "    precision= precision_score(y_test,pred)\n",
    "    recall = recall_score(y_test,pred)\n",
    "    f1score= f1_score(y_test,pred)\n",
    "\n",
    "    print('오차행렬')\n",
    "    print(confusion)\n",
    "    print(f'정확도:{accuracy:.4f}, 정밀도:{precision:.4f}, 재현율{recall:.4f}, f1_score{f1score:.4f}')"
   ]
  },
  {
   "cell_type": "code",
   "execution_count": 22,
   "metadata": {},
   "outputs": [
    {
     "name": "stdout",
     "output_type": "stream",
     "text": [
      "오차행렬\n",
      "[[104  14]\n",
      " [ 13  48]]\n",
      "정확도:0.8492, 정밀도:0.7742, 재현율0.7869, f1_score0.7805\n"
     ]
    }
   ],
   "source": [
    "# 원본 데이터를 재로딩 하고, feature데이터 셋과 Label 데이터 셋 추출.\n",
    "titanic_df = pd.read_csv('../datasets/titanic_train.csv')\n",
    "y_titanic_df = titanic_df['Survived']\n",
    "X_titanic_df= titanic_df.drop('Survived',axis=1)\n",
    "X_titanic_df = transform_features(X_titanic_df)\n",
    "from sklearn.model_selection import train_test_split\n",
    "X_train, X_test, y_train, y_test=train_test_split(X_titanic_df, y_titanic_df, \\\n",
    "                                                  test_size=0.2, random_state=11)\n",
    "\n",
    "from sklearn.linear_model import LogisticRegression\n",
    "lr_clf= LogisticRegression()\n",
    "\n",
    "# LogisticRegression 학습/예측/평가\n",
    "lr_clf.fit(X_train , y_train)\n",
    "lr_pred = lr_clf.predict(X_test)\n",
    "get_clf_eval(y_test,lr_pred)"
   ]
  },
  {
   "cell_type": "code",
   "execution_count": null,
   "metadata": {},
   "outputs": [],
   "source": []
  },
  {
   "attachments": {},
   "cell_type": "markdown",
   "metadata": {},
   "source": [
    "## sklearn.metrics.precision_recall_curve\n",
    "* sklearn.metrics.precision_recall_curve(y_true, probas_pred, *, pos_label=None, sample_weight=None)\n",
    "* Parameters:\n",
    "\n",
    "    **y_true**ndarray of shape (n_samples,)\n",
    "\n",
    "    True binary labels. If labels are not either {-1, 1} or {0, 1}, then pos_label should be explicitly given.\n",
    "\n",
    "    **probas_pred**ndarray of shape (n_samples,)\n",
    "\n",
    "    Target scores, can either be probability estimates of the positive class, or non-thresholded measure of decisions (as returned by  `decision_function`  on some classifiers).\n",
    "\n",
    "    **pos_label**int or str, default=None\n",
    "\n",
    "    The label of the positive class. When  `pos_label=None`, if y_true is in {-1, 1} or {0, 1},  `pos_label`  is set to 1, otherwise an error will be raised.\n",
    "\n",
    "    **sample_weight**array-like of shape (n_samples,), default=None\n",
    "\n",
    "    Sample weights.\n",
    "\n",
    "    Returns:\n",
    "\n",
    "    **precision**ndarray of shape (n_thresholds + 1,)\n",
    "\n",
    "    Precision values such that element i is the precision of predictions with score >= thresholds[i] and the last element is 1.\n",
    "\n",
    "    **recall**ndarray of shape (n_thresholds + 1,)\n",
    "\n",
    "    Decreasing recall values such that element i is the recall of predictions with score >= thresholds[i] and the last element is 0.\n",
    "\n",
    "    **thresholds**ndarray of shape (n_thresholds,)\n",
    "\n",
    "    Increasing thresholds on the decision function used to compute precision and recall where  `n_thresholds = len(np.unique(probas_pred))`."
   ]
  },
  {
   "cell_type": "code",
   "execution_count": 28,
   "metadata": {},
   "outputs": [],
   "source": [
    "lr_pred_proba=lr_clf.predict_proba(X_test)"
   ]
  },
  {
   "cell_type": "code",
   "execution_count": 29,
   "metadata": {},
   "outputs": [
    {
     "data": {
      "text/plain": [
       "array([0.53839246, 0.12139512, 0.12274835, 0.11715901, 0.14493469,\n",
       "       0.11769214, 0.11163092, 0.79084209, 0.21742003, 0.63004   ,\n",
       "       0.10011628, 0.12520285, 0.12275426, 0.11167634, 0.56487118,\n",
       "       0.14113974, 0.09625906, 0.2668001 , 0.27576913, 0.82742343,\n",
       "       0.24658022, 0.38036644, 0.14551185, 0.18481931, 0.11204315,\n",
       "       0.23466044, 0.14030732, 0.07392177, 0.28065899, 0.30511037,\n",
       "       0.94732947, 0.81778169, 0.1265855 , 0.82555308, 0.39949095,\n",
       "       0.23466044, 0.07230387, 0.61148234, 0.05300535, 0.10395279,\n",
       "       0.3501775 , 0.08312397, 0.82212514, 0.70781411, 0.6303146 ,\n",
       "       0.63033072, 0.91864642, 0.35637593, 0.94891253, 0.11207733,\n",
       "       0.59432771, 0.11167634, 0.13289252, 0.72478834, 0.30965173,\n",
       "       0.19657976, 0.2265341 , 0.12274938, 0.154357  , 0.43261738,\n",
       "       0.28037016, 0.10089159, 0.54667676, 0.51332578, 0.44455622,\n",
       "       0.09461626, 0.6670339 , 0.59425028, 0.95194541, 0.14774019,\n",
       "       0.12910725, 0.16863595, 0.10395501, 0.94788236, 0.19870651,\n",
       "       0.11167634, 0.34876397, 0.18369039, 0.83581058, 0.12274938,\n",
       "       0.79519082, 0.6436087 , 0.93082954, 0.13321311, 0.94915582,\n",
       "       0.95070094, 0.15308166, 0.12539808, 0.87421086, 0.11167634,\n",
       "       0.11167634, 0.23466044, 0.23202197, 0.11167634, 0.63033072,\n",
       "       0.0757033 , 0.92886748, 0.10074597, 0.50696778, 0.96515422,\n",
       "       0.50114131, 0.09473501, 0.94817125, 0.0975668 , 0.52977973,\n",
       "       0.12847393, 0.14118629, 0.14773988, 0.44938212, 0.10735873,\n",
       "       0.1169807 , 0.10893641, 0.40383953, 0.65423084, 0.11204315,\n",
       "       0.07115082, 0.12431509, 0.19847875, 0.92585987, 0.06864049,\n",
       "       0.11166758, 0.13049031, 0.06347794, 0.3203228 , 0.01162875,\n",
       "       0.11166758, 0.1161835 , 0.31696714, 0.67749316, 0.32167128,\n",
       "       0.96515422, 0.45455507, 0.73500297, 0.4396106 , 0.57024004,\n",
       "       0.34840563, 0.74809156, 0.18640761, 0.1039799 , 0.80298586,\n",
       "       0.90892282, 0.14773988, 0.11794884, 0.10119081, 0.09164536,\n",
       "       0.66692748, 0.07565875, 0.23366728, 0.91853119, 0.16834765,\n",
       "       0.42897834, 0.63078845, 0.63707658, 0.12269442, 0.77805725,\n",
       "       0.88097528, 0.48875236, 0.13305421, 0.75098698, 0.69041087,\n",
       "       0.14991701, 0.79238106, 0.09128878, 0.66696715, 0.3803141 ,\n",
       "       0.65151199, 0.88387776, 0.30911959, 0.09166442, 0.89338422,\n",
       "       0.11163092, 0.85460954, 0.25021572, 0.24055882, 0.39803132,\n",
       "       0.06227803, 0.14119323, 0.54611635, 0.62747264])"
      ]
     },
     "execution_count": 29,
     "metadata": {},
     "output_type": "execute_result"
    }
   ],
   "source": [
    "lr_pred_proba[:,1]"
   ]
  },
  {
   "cell_type": "code",
   "execution_count": 31,
   "metadata": {},
   "outputs": [],
   "source": [
    "from sklearn.metrics import precision_recall_curve\n",
    "\n",
    "data=precision_recall_curve(y_test,lr_pred_proba[:,1])"
   ]
  },
  {
   "cell_type": "code",
   "execution_count": 36,
   "metadata": {},
   "outputs": [
    {
     "data": {
      "text/plain": [
       "Text(0, 0.5, 'precision and recall value')"
      ]
     },
     "execution_count": 36,
     "metadata": {},
     "output_type": "execute_result"
    },
    {
     "data": {
      "image/png": "[encoded data removed]",
      "text/plain": [
       "<Figure size 640x480 with 1 Axes>"
      ]
     },
     "metadata": {},
     "output_type": "display_data"
    }
   ],
   "source": [
    "import matplotlib.pyplot as plt\n",
    "\n",
    "plt.plot(data[0])\n",
    "plt.plot(data[1])\n",
    "plt.xlabel('threshold')\n",
    "plt.ylabel('precision and recall value')\n",
    "\n"
   ]
  },
  {
   "attachments": {},
   "cell_type": "markdown",
   "metadata": {},
   "source": [
    "## sklearn.metrics.roc_curve\n",
    "* sklearn.metrics.roc_curve(y_true, y_score, *, pos_label=None, sample_weight=None, drop_intermediate=True)\n",
    "* Parameters:\n",
    "    y_true : ndarray of shape (n_samples,)\n",
    "    True binary labels. If labels are not either {-1, 1} or {0, 1}, then pos_label should be explicitly given.\n",
    "\n",
    "    y_score : ndarray of shape (n_samples,)\n",
    "    Target scores, can either be probability estimates of the positive class, confidence values, or non-thresholded measure of decisions (as returned by “decision_function” on some classifiers).\n",
    "* Returns:\n",
    "    fpr : ndarray of shape (>2,)\n",
    "    \n",
    "\n",
    "    tpr : ndarray of shape (>2,)\n",
    "  \n",
    "\n",
    "    thresholds : ndarray of shape = (n_thresholds,)\n",
    " "
   ]
  },
  {
   "attachments": {},
   "cell_type": "markdown",
   "metadata": {},
   "source": [
    "## sklearn.metrics.roc_auc_score\n",
    "* sklearn.metrics.roc_auc_score(y_true, y_score, *, average='macro', sample_weight=None, max_fpr=None, multi_class='raise', labels=None)\n",
    "* Parameters:\n",
    "    y_true : array-like of shape (n_samples,) or (n_samples, n_classes)\n",
    "    True labels or binary label indicators. The binary and multiclass cases expect labels with shape (n_samples,) while the multilabel case expects binary label indicators with shape (n_samples, n_classes).\n",
    "\n",
    "    y_score : array-like of shape (n_samples,) or (n_samples, n_classes)\n",
    "    Target scores.\n",
    "\n",
    "* Returns:\n",
    "    aucfloat\n",
    "    Area Under the Curve score."
   ]
  },
  {
   "cell_type": "code",
   "execution_count": 44,
   "metadata": {},
   "outputs": [
    {
     "name": "stdout",
     "output_type": "stream",
     "text": [
      "샘플 추출을 위한 임곗값 배열의 index: [ 1  6 11 16 21 26 31 36 41 46 51]\n",
      "샘플 index로 추출한 임곗값:  [0.97 0.65 0.63 0.56 0.45 0.38 0.31 0.13 0.12 0.11 0.1 ]\n",
      "샘플 임곗값별 FPR:  [0.    0.017 0.034 0.076 0.127 0.186 0.237 0.576 0.619 0.754 0.814]\n",
      "샘플 임곗값별 TPR:  [0.033 0.639 0.705 0.754 0.803 0.852 0.902 0.902 0.951 0.967 1.   ]\n"
     ]
    }
   ],
   "source": [
    "from sklearn.metrics import roc_curve\n",
    "\n",
    "pred_proba_class1= lr_clf.predict_proba(X_test)[:,1]\n",
    "\n",
    "fprs, tprs, thresholds =roc_curve(y_test,pred_proba_class1)\n",
    "\n",
    "thr_index =np.arange(1,thresholds.shape[0], 5)\n",
    "print(\"샘플 추출을 위한 임곗값 배열의 index:\", thr_index)\n",
    "print(\"샘플 index로 추출한 임곗값: \",np.round(thresholds[thr_index], 2))\n",
    "\n",
    "print('샘플 임곗값별 FPR: ',np.round(fprs[thr_index], 3))\n",
    "print('샘플 임곗값별 TPR: ',np.round(tprs[thr_index], 3))"
   ]
  },
  {
   "cell_type": "code",
   "execution_count": 47,
   "metadata": {},
   "outputs": [
    {
     "data": {
      "image/png": "[encoded data removed]",
      "text/plain": [
       "<Figure size 640x480 with 1 Axes>"
      ]
     },
     "metadata": {},
     "output_type": "display_data"
    }
   ],
   "source": [
    "def roc_curve_plot(y_test, pred_proba_c1):\n",
    "    # 임곗값에 따를 fpr,tpr,tpr 값을 반환 받음\n",
    "    fprs,tprs,thresholds =roc_curve(y_test,pred_proba_class1)\n",
    "\n",
    "    # Roc Curve를 plot곡선으로 그림\n",
    "    plt.plot(fprs,tprs,label='ROC')\n",
    "    # 가운데 대각선 직석ㄴ을 그림\n",
    "    plt.plot([0,1],[0,1],'k--', label='Random')\n",
    "\n",
    "    #FPR X축의 Scale을 0,1 단위로 변경,X,Y 축명 설정등\n",
    "    start,end =plt.xlim()\n",
    "    plt.xticks(np.round(np.arange(start,end,0.1),2))\n",
    "    plt.xlim(0,1)\n",
    "    plt.ylim(0,1)\n",
    "    plt.xlabel('FPR(1-Sensitivity)')\n",
    "    plt.ylabel('TPR(Recall)')\n",
    "    plt.legend()\n",
    "    plt.show()\n",
    "\n",
    "\n",
    "roc_curve_plot(y_test,lr_clf.predict_proba(X_test)[:,1])"
   ]
  },
  {
   "cell_type": "code",
   "execution_count": 51,
   "metadata": {},
   "outputs": [
    {
     "name": "stdout",
     "output_type": "stream",
     "text": [
      "Roc Auc 값:0.9024\n"
     ]
    }
   ],
   "source": [
    "from sklearn.metrics import roc_auc_score\n",
    "\n",
    "pred_proba=lr_clf.predict_proba(X_test)[:,1]\n",
    "roc_score=roc_auc_score(y_test,pred_proba)\n",
    "print(f'Roc Auc 값:{roc_score:.4f}')"
   ]
  },
  {
   "cell_type": "code",
   "execution_count": null,
   "metadata": {},
   "outputs": [],
   "source": []
  }
 ],
 "metadata": {
  "kernelspec": {
   "display_name": "Python 3",
   "language": "python",
   "name": "python3"
  },
  "language_info": {
   "codemirror_mode": {
    "name": "ipython",
    "version": 3
   },
   "file_extension": ".py",
   "mimetype": "text/x-python",
   "name": "python",
   "nbconvert_exporter": "python",
   "pygments_lexer": "ipython3",
   "version": "3.10.9"
  },
  "orig_nbformat": 4
 },
 "nbformat": 4,
 "nbformat_minor": 2
}
